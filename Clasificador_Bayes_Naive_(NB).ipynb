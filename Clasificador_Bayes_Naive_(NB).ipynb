{
 "cells": [
  {
   "cell_type": "code",
   "execution_count": 13,
   "id": "38589cd6",
   "metadata": {
    "pycharm": {
     "name": "#%%\n"
    }
   },
   "outputs": [],
   "source": [
    "import spacy\n",
    "import pandas as pd"
   ]
  },
  {
   "cell_type": "code",
   "execution_count": 41,
   "id": "b6fcaf26",
   "metadata": {
    "pycharm": {
     "name": "#%%\n"
    }
   },
   "outputs": [
    {
     "data": {
      "text/plain": "443"
     },
     "execution_count": 41,
     "metadata": {},
     "output_type": "execute_result"
    }
   ],
   "source": [
    "stopWordsSpanish = pd.read_json('./data/stop_words_spanish.json')[0].tolist()\n",
    "# stopWordsSpanish.columns = ['word']\n",
    "len(stopWordsSpanish)"
   ]
  },
  {
   "cell_type": "code",
   "execution_count": 4,
   "id": "d794a890",
   "metadata": {
    "pycharm": {
     "name": "#%%\n"
    }
   },
   "outputs": [
    {
     "data": {
      "text/plain": "   Unnamed: 0             tweetid        user  \\\n0           0  768529421548609536   293627746   \n1           1  771028255629512706    35709180   \n2           2  771055632854183940   146577758   \n3           3  770138191689093122   355883744   \n4           4  769716104491040768  2701106364   \n\n                                             content  \\\n0  Yo espero tranquila. Si gana de nvo alg partid...   \n1  Los fracasos de Michelle, Cristina y Dilma mue...   \n2  Debemos orar por los hnos venezolanos gente q ...   \n3  Me dijo que no le había gustado no se cuantas ...   \n4  @susanagkp jajaja yo fui el viernes ! precavid...   \n\n                             date lang sentiment  \n0  Wed Aug 24 19:24:27 +0000 2016   es       NEU  \n1  Wed Aug 31 16:53:55 +0000 2016   es         N  \n2  Wed Aug 31 18:42:43 +0000 2016   es         N  \n3  Mon Aug 29 05:57:08 +0000 2016   es       NEU  \n4  Sun Aug 28 01:59:54 +0000 2016   es         N  ",
      "text/html": "<div>\n<style scoped>\n    .dataframe tbody tr th:only-of-type {\n        vertical-align: middle;\n    }\n\n    .dataframe tbody tr th {\n        vertical-align: top;\n    }\n\n    .dataframe thead th {\n        text-align: right;\n    }\n</style>\n<table border=\"1\" class=\"dataframe\">\n  <thead>\n    <tr style=\"text-align: right;\">\n      <th></th>\n      <th>Unnamed: 0</th>\n      <th>tweetid</th>\n      <th>user</th>\n      <th>content</th>\n      <th>date</th>\n      <th>lang</th>\n      <th>sentiment</th>\n    </tr>\n  </thead>\n  <tbody>\n    <tr>\n      <th>0</th>\n      <td>0</td>\n      <td>768529421548609536</td>\n      <td>293627746</td>\n      <td>Yo espero tranquila. Si gana de nvo alg partid...</td>\n      <td>Wed Aug 24 19:24:27 +0000 2016</td>\n      <td>es</td>\n      <td>NEU</td>\n    </tr>\n    <tr>\n      <th>1</th>\n      <td>1</td>\n      <td>771028255629512706</td>\n      <td>35709180</td>\n      <td>Los fracasos de Michelle, Cristina y Dilma mue...</td>\n      <td>Wed Aug 31 16:53:55 +0000 2016</td>\n      <td>es</td>\n      <td>N</td>\n    </tr>\n    <tr>\n      <th>2</th>\n      <td>2</td>\n      <td>771055632854183940</td>\n      <td>146577758</td>\n      <td>Debemos orar por los hnos venezolanos gente q ...</td>\n      <td>Wed Aug 31 18:42:43 +0000 2016</td>\n      <td>es</td>\n      <td>N</td>\n    </tr>\n    <tr>\n      <th>3</th>\n      <td>3</td>\n      <td>770138191689093122</td>\n      <td>355883744</td>\n      <td>Me dijo que no le había gustado no se cuantas ...</td>\n      <td>Mon Aug 29 05:57:08 +0000 2016</td>\n      <td>es</td>\n      <td>NEU</td>\n    </tr>\n    <tr>\n      <th>4</th>\n      <td>4</td>\n      <td>769716104491040768</td>\n      <td>2701106364</td>\n      <td>@susanagkp jajaja yo fui el viernes ! precavid...</td>\n      <td>Sun Aug 28 01:59:54 +0000 2016</td>\n      <td>es</td>\n      <td>N</td>\n    </tr>\n  </tbody>\n</table>\n</div>"
     },
     "execution_count": 4,
     "metadata": {},
     "output_type": "execute_result"
    }
   ],
   "source": [
    "df = pd.read_csv('./data/country_CR_train.csv')\n",
    "df.head()"
   ]
  },
  {
   "cell_type": "code",
   "execution_count": 5,
   "id": "d917a232",
   "metadata": {
    "pycharm": {
     "name": "#%%\n"
    }
   },
   "outputs": [
    {
     "data": {
      "text/plain": "  Sentiments Unique\n0               NEU\n1                 N\n2              NONE\n3                 P",
      "text/html": "<div>\n<style scoped>\n    .dataframe tbody tr th:only-of-type {\n        vertical-align: middle;\n    }\n\n    .dataframe tbody tr th {\n        vertical-align: top;\n    }\n\n    .dataframe thead th {\n        text-align: right;\n    }\n</style>\n<table border=\"1\" class=\"dataframe\">\n  <thead>\n    <tr style=\"text-align: right;\">\n      <th></th>\n      <th>Sentiments Unique</th>\n    </tr>\n  </thead>\n  <tbody>\n    <tr>\n      <th>0</th>\n      <td>NEU</td>\n    </tr>\n    <tr>\n      <th>1</th>\n      <td>N</td>\n    </tr>\n    <tr>\n      <th>2</th>\n      <td>NONE</td>\n    </tr>\n    <tr>\n      <th>3</th>\n      <td>P</td>\n    </tr>\n  </tbody>\n</table>\n</div>"
     },
     "execution_count": 5,
     "metadata": {},
     "output_type": "execute_result"
    }
   ],
   "source": [
    "pd.DataFrame(df['sentiment'].unique(), columns=['Sentiments Unique'])"
   ]
  },
  {
   "cell_type": "code",
   "execution_count": 6,
   "id": "8ad76d25",
   "metadata": {
    "pycharm": {
     "name": "#%%\n"
    }
   },
   "outputs": [
    {
     "data": {
      "text/plain": "(943, 7)"
     },
     "execution_count": 6,
     "metadata": {},
     "output_type": "execute_result"
    }
   ],
   "source": [
    "# Conversión de sentiments a variables numéricas\n",
    "df['sentiment'] = df.sentiment.map({'NEU':0, 'N':1, 'NONE':2, 'P':3})\n",
    "df.shape"
   ]
  },
  {
   "cell_type": "code",
   "execution_count": 17,
   "id": "98b3c0ca",
   "metadata": {
    "pycharm": {
     "name": "#%%\n"
    }
   },
   "outputs": [],
   "source": [
    "documents = df['content'].to_list()\n",
    "nlp = spacy.load(\"es_core_news_sm\")\n",
    "words = []"
   ]
  },
  {
   "cell_type": "code",
   "execution_count": 24,
   "outputs": [],
   "source": [
    "for text in documents:\n",
    "    myDoc = nlp(text)\n",
    "    for word in myDoc:\n",
    "        lexeme = nlp.vocab[word.text]\n",
    "        if lexeme.is_stop == False:\n",
    "            words.append(word)"
   ],
   "metadata": {
    "collapsed": false,
    "pycharm": {
     "name": "#%%\n"
    }
   }
  },
  {
   "cell_type": "code",
   "execution_count": 42,
   "outputs": [
    {
     "data": {
      "text/plain": "           word\n0        espero\n1     tranquila\n2             .\n3          gana\n4           nvo\n...         ...\n4738     podria\n4739         SE\n4740      serán\n4741      Sería\n4742      éstos\n\n[4743 rows x 1 columns]",
      "text/html": "<div>\n<style scoped>\n    .dataframe tbody tr th:only-of-type {\n        vertical-align: middle;\n    }\n\n    .dataframe tbody tr th {\n        vertical-align: top;\n    }\n\n    .dataframe thead th {\n        text-align: right;\n    }\n</style>\n<table border=\"1\" class=\"dataframe\">\n  <thead>\n    <tr style=\"text-align: right;\">\n      <th></th>\n      <th>word</th>\n    </tr>\n  </thead>\n  <tbody>\n    <tr>\n      <th>0</th>\n      <td>espero</td>\n    </tr>\n    <tr>\n      <th>1</th>\n      <td>tranquila</td>\n    </tr>\n    <tr>\n      <th>2</th>\n      <td>.</td>\n    </tr>\n    <tr>\n      <th>3</th>\n      <td>gana</td>\n    </tr>\n    <tr>\n      <th>4</th>\n      <td>nvo</td>\n    </tr>\n    <tr>\n      <th>...</th>\n      <td>...</td>\n    </tr>\n    <tr>\n      <th>4738</th>\n      <td>podria</td>\n    </tr>\n    <tr>\n      <th>4739</th>\n      <td>SE</td>\n    </tr>\n    <tr>\n      <th>4740</th>\n      <td>serán</td>\n    </tr>\n    <tr>\n      <th>4741</th>\n      <td>Sería</td>\n    </tr>\n    <tr>\n      <th>4742</th>\n      <td>éstos</td>\n    </tr>\n  </tbody>\n</table>\n<p>4743 rows × 1 columns</p>\n</div>"
     },
     "execution_count": 42,
     "metadata": {},
     "output_type": "execute_result"
    }
   ],
   "source": [
    "uniqueWords = []\n",
    "for w in words:\n",
    "    if (w.text not in uniqueWords):\n",
    "        uniqueWords.append(w.text)\n",
    "    if (w.like_num is True):\n",
    "        stopWordsSpanish.append(w.text)\n",
    "\n",
    "pd.DataFrame(uniqueWords, columns=['word'])"
   ],
   "metadata": {
    "collapsed": false,
    "pycharm": {
     "name": "#%%\n"
    }
   }
  },
  {
   "cell_type": "code",
   "execution_count": 44,
   "outputs": [
    {
     "data": {
      "text/plain": "915"
     },
     "execution_count": 44,
     "metadata": {},
     "output_type": "execute_result"
    }
   ],
   "source": [
    "len(stopWordsSpanish)"
   ],
   "metadata": {
    "collapsed": false,
    "pycharm": {
     "name": "#%%\n"
    }
   }
  },
  {
   "cell_type": "code",
   "execution_count": null,
   "outputs": [],
   "source": [
    "uniqueWords.append('.', ',', '...', '!', '?', '+', '-', '....', '$', '\"', '#')"
   ],
   "metadata": {
    "collapsed": false,
    "pycharm": {
     "name": "#%%\n"
    }
   }
  },
  {
   "cell_type": "code",
   "execution_count": 8,
   "id": "23b993c3",
   "metadata": {
    "pycharm": {
     "name": "#%%\n"
    }
   },
   "outputs": [
    {
     "name": "stdout",
     "output_type": "stream",
     "text": [
      "CountVectorizer()\n",
      "CountVectorizer(stop_words=['algún', 'alguna', 'algunas', 'alguno', 'algunos',\n",
      "                            'ambos', 'ampleamos', 'ante', 'antes', 'aquel',\n",
      "                            'aquellas', 'aquellos', 'aqui', 'arriba', 'atras',\n",
      "                            'bajo', 'bastante', 'bien', 'cada', 'cierta',\n",
      "                            'ciertas', 'cierto', 'ciertos', 'como', 'con',\n",
      "                            'conseguimos', 'conseguir', 'consigo', 'consigue',\n",
      "                            'consiguen', ...])\n"
     ]
    }
   ],
   "source": [
    "from sklearn.feature_extraction.text import CountVectorizer\n",
    "print(CountVectorizer())\n",
    "count_vector = CountVectorizer(stop_words=stopWordsSpanish.word.to_list())\n",
    "print(count_vector)"
   ]
  },
  {
   "cell_type": "code",
   "execution_count": 9,
   "id": "f5a7f3ac",
   "metadata": {
    "pycharm": {
     "name": "#%%\n"
    }
   },
   "outputs": [
    {
     "name": "stderr",
     "output_type": "stream",
     "text": [
      "C:\\Users\\ASUS\\Documents\\Entornos\\Entorno01\\lib\\site-packages\\sklearn\\utils\\deprecation.py:87: FutureWarning: Function get_feature_names is deprecated; get_feature_names is deprecated in 1.0 and will be removed in 1.2. Please use get_feature_names_out instead.\n",
      "  warnings.warn(msg, category=FutureWarning)\n"
     ]
    },
    {
     "data": {
      "text/plain": "['00',\n '095327750',\n '0hmyvolunteer',\n '10',\n '100',\n '10_nov',\n '11',\n '115',\n '12',\n '14',\n '15',\n '18',\n '1cm',\n '1era',\n '1k',\n '1ro',\n '20',\n '2005',\n '2010',\n '2011',\n '2016',\n '2017',\n '2018',\n '21',\n '22',\n '23',\n '24',\n '25',\n '26',\n '27',\n '28',\n '2891891cap',\n '2do',\n '2tes',\n '2x1',\n '30',\n '300',\n '30cm',\n '30hs',\n '34',\n '36',\n '3gob',\n '40',\n '45',\n '49',\n '60',\n '6to',\n '78',\n '8000',\n '87',\n '90',\n '98',\n '99',\n '996',\n '9km',\n '__josejuan__',\n '_anatabeira',\n '_mariajosee_',\n '_melibarra',\n '_pepepar',\n '_suniac',\n '_tener',\n 'aaa',\n 'aaaaaaah',\n 'abajo',\n 'abbu25',\n 'abdon',\n 'abierta',\n 'abossus',\n 'abraces',\n 'abraham',\n 'abrahamer',\n 'abrahamers',\n 'abrahammateoenuruguay',\n 'abrahammateomus',\n 'abrazar',\n 'abrazarla',\n 'abrazo',\n 'abrazos',\n 'abren',\n 'absolvieron',\n 'abstencion',\n 'abuela',\n 'aburrida',\n 'aburridos',\n 'aburrieron',\n 'aburro',\n 'abusar',\n 'abuso',\n 'aca',\n 'acaba',\n 'acaban',\n 'acabas',\n 'acabo',\n 'acceso',\n 'aceptar',\n 'acertar',\n 'acomodar',\n 'acompañarme',\n 'acompañarnos',\n 'acompañarte',\n 'acompañe',\n 'acondicionador',\n 'acordar',\n 'acordas',\n 'acostada',\n 'acostumbrada',\n 'acostumbraste',\n 'activa',\n 'activar',\n 'actuales',\n 'actualizaciones',\n 'acuerda',\n 'acuerdo',\n 'acueste',\n 'acules',\n 'acá',\n 'adaptan',\n 'adas',\n 'adeladubra',\n 'adelgazando',\n 'adentro',\n 'adictoslali',\n 'adidas',\n 'admitas',\n 'adolescente',\n 'adoptda',\n 'adorable',\n 'adorno',\n 'adoro',\n 'adri_tranqui',\n 'adversarios',\n 'afigue2010',\n 'afiliados',\n 'aflojando',\n 'again',\n 'agarra',\n 'agarrado',\n 'agarrarle',\n 'agarre',\n 'agarro',\n 'agarró',\n 'agazzi',\n 'agencias',\n 'agitarlo',\n 'agotada',\n 'agotan',\n 'agradables',\n 'agradeceria',\n 'agradecido',\n 'agradecimiento',\n 'agradezco',\n 'agregar',\n 'agregue',\n 'agresión',\n 'agronegocios_uy',\n 'agu',\n 'agua',\n 'aguadance',\n 'aguanta',\n 'aguanten',\n 'aguanto',\n 'aguanté',\n 'agusblanco01',\n 'agusti_pena',\n 'agustin',\n 'agustinineedyou',\n 'agustín',\n 'ah',\n 'ahhhh',\n 'ahi',\n 'ahorrado',\n 'ahr',\n 'ahre',\n 'aire',\n 'aiuda',\n 'ajaj',\n 'ajaja',\n 'ajajajaja',\n 'ajajajajajja',\n 'ajajjaja',\n 'ajajjajajaja',\n 'ajbodoc',\n 'ajena',\n 'ajjajaj',\n 'alberto',\n 'albertoraimundi',\n 'alcanza',\n 'alcurnia',\n 'aldanaperezz',\n 'ale',\n 'alededecanocom',\n 'alefpiro',\n 'alegran',\n 'alegrando',\n 'alegro',\n 'alejandro_mhr',\n 'alejandrogonz37',\n 'alejense',\n 'alem4p',\n 'alentamos',\n 'alergia',\n 'alerta',\n 'alfajor',\n 'alfredo_bruno',\n 'alg',\n 'alguien',\n 'algun',\n 'ali',\n 'aliado',\n 'aliados',\n 'aliciavery',\n 'aliens',\n 'alimarve',\n 'alita_ntvg',\n 'alitamontevideo',\n 'all',\n 'allá',\n 'alma',\n 'almacenamiento',\n 'almacén',\n 'almahistorica',\n 'almohada',\n 'almorzando',\n 'alonso',\n 'alphasniper97',\n 'alpiocosta',\n 'alto',\n 'altura',\n 'alur',\n 'alvarolevrero',\n 'alvrod',\n 'am',\n 'ama',\n 'amables',\n 'amargo',\n 'amargues',\n 'amartino',\n 'amateur',\n 'ame',\n 'amiga',\n 'amigaa',\n 'amigas',\n 'amigo',\n 'amigos',\n 'amo',\n 'amor',\n 'amorakilates',\n 'amores',\n 'amorins8',\n 'amoroso',\n 'amplia',\n 'amplificar',\n 'américa',\n 'américas',\n 'analizar',\n 'analizo',\n 'anarquistas',\n 'anaterran',\n 'and',\n 'anda',\n 'andar',\n 'andará',\n 'ando',\n 'andreacarcamo7',\n 'andrealuzuriaga',\n 'andresantoniuk',\n 'andresdarmas2',\n 'anduvo',\n 'andyygmes',\n 'andá',\n 'andás',\n 'angeldebritook',\n 'anillos',\n 'animales',\n 'animatowner',\n 'animo',\n 'anita',\n 'anitafb',\n 'anotar',\n 'anteriores',\n 'anticíclicas',\n 'anto',\n 'antojo',\n 'antonellamombru',\n 'antotamilia',\n 'ap',\n 'apague',\n 'aparece',\n 'aparecer',\n 'aparecieron',\n 'aparentemente',\n 'aparezca',\n 'apartado',\n 'aparte',\n 'apellido',\n 'apellidos',\n 'api',\n 'aplauden',\n 'aplicación',\n 'apliquen',\n 'apolillado',\n 'aportas',\n 'apostas',\n 'apoyar',\n 'apoyarme',\n 'apoyo',\n 'app',\n 'aprecian',\n 'aprende',\n 'aprender',\n 'aprendido',\n 'aprobado',\n 'apueste',\n 'apuesto',\n 'apuntó',\n 'apurando',\n 'apuras',\n 'aquella',\n 'aquicolobanco',\n 'aranca',\n 'archivado',\n 'arctic',\n 'ardua',\n 'arduo',\n 'arg',\n 'argentina',\n 'argentinos',\n 'argumento',\n 'armadacolombia',\n 'armadito',\n 'armado',\n 'armar',\n 'armaremos',\n 'armas',\n 'armys',\n 'arq_fmartinez',\n 'arranque',\n 'arre',\n 'arregladito',\n 'arreglar',\n 'arreglo',\n 'arrepentido',\n 'arribaarg',\n 'arrogues',\n 'arroz',\n 'arte',\n 'artistas',\n 'artículo',\n 'as',\n 'asadito',\n 'asado',\n 'asco',\n 'aseguro',\n 'asesinados',\n 'asesinato',\n 'asi',\n 'asiento',\n 'asimetrico',\n 'asiq',\n 'aspectos',\n 'asquerosa',\n 'atención',\n 'atenta',\n 'ateo',\n 'aterricen',\n 'aue',\n 'aun',\n 'aunq',\n 'auronftomg',\n 'ausencia',\n 'auto',\n 'autor',\n 'autos',\n 'autónomos',\n 'av',\n 'avanzar',\n 'aveces',\n 'avion',\n 'avisale',\n 'avisaron',\n 'aviso',\n 'avísenme',\n 'axel',\n 'ay',\n 'ayatolsmine',\n 'ayuda',\n 'ayudar',\n 'ayudarías',\n 'ayude',\n 'ayudo',\n 'ayy',\n 'ayyy',\n 'azotea',\n 'azul',\n 'azulgrana',\n 'añeja',\n 'añitos',\n 'año',\n 'años',\n 'bailar',\n 'bailarin',\n 'baile',\n 'bailes',\n 'baja',\n 'bajan',\n 'bajoneada',\n 'bajé',\n 'bajón',\n 'balalaika',\n 'balazo',\n 'ball',\n 'bambino627',\n 'bambootik',\n 'bananita',\n 'banca',\n 'bancar',\n 'banco',\n 'barato',\n 'baratos',\n 'barcelona',\n 'bardo',\n 'bardos',\n 'barossi_luzmila',\n 'barquillo',\n 'barranca',\n 'barrio',\n 'barsacampeon10',\n 'barvelez',\n 'bassorelli',\n 'basta',\n 'bastaaaa',\n 'batalla',\n 'batalla_epica',\n 'baterías',\n 'batido',\n 'batlle',\n 'bañito',\n 'baño',\n 'baños',\n 'be',\n 'beberé',\n 'bebita',\n 'beeeel12',\n 'beeelupereez',\n 'bella',\n 'belleza',\n 'bello',\n 'bendiciones',\n 'benefician',\n 'benjacandado',\n 'ber_uy',\n 'berlín',\n 'beso',\n 'besos',\n 'besote',\n 'bibliotecasces',\n 'bicampeón',\n 'bienvenida',\n 'biología',\n 'birthday',\n 'blanco',\n 'bloqueada',\n 'bloqueado',\n 'bloquee',\n 'bloqueos',\n 'bnas',\n 'bo',\n 'boba',\n 'bobadas',\n 'bobeta',\n 'bobita',\n 'bobito',\n 'bobos',\n 'boca',\n 'bocinazos',\n 'bolas',\n 'boletín',\n 'boliche',\n 'bolsillo',\n 'bolso',\n 'boluda',\n 'bomba',\n 'bombonazo',\n 'bon',\n 'bondi',\n 'bondiola',\n 'bones',\n 'bonita',\n 'bonito',\n 'bonomi',\n 'borinquen',\n 'borisgolu10',\n 'borrachera',\n 'borracho',\n 'borre',\n 'borró',\n 'bostonriver',\n 'bot',\n 'botella',\n 'botija',\n 'botones',\n 'bouer',\n 'bps',\n 'brandonbouer',\n 'brandonlemusv',\n 'brenda',\n 'brendadema',\n 'breve',\n 'brillar',\n 'britos',\n 'bro',\n 'broh',\n 'brunasosa7',\n 'brunovuan',\n 'bruto',\n 'btw',\n 'bue',\n 'buee',\n 'bueh',\n 'buenasnoches',\n 'buendescanso',\n 'buendia',\n 'buenfindesemana',\n 'buenlunes',\n 'buenooo',\n 'buenviernes',\n 'buenísima',\n 'buenísimos',\n 'buerfana',\n 'burguesas',\n 'burlas',\n 'busca',\n 'buscando',\n 'buscar',\n 'buscaron',\n 'buscarte',\n 'buscás',\n 'buso',\n 'buttowsky',\n 'buzo',\n 'byeee',\n 'básica',\n 'básicamente',\n 'caballos',\n 'cabernicola',\n 'cabeza',\n 'cableada',\n 'cabron',\n 'caelifancy',\n 'caelike',\n 'caelikers',\n 'caeliuru',\n 'caen',\n 'caer',\n 'caes',\n 'café',\n 'cagada',\n 'caigo',\n 'caioteensarta',\n 'caipis',\n 'caistes',\n 'cajero',\n 'calculadora',\n 'caleb',\n 'calentarse',\n 'calidad',\n 'calificar',\n 'call',\n 'callada',\n 'callarme',\n 'calle',\n 'calor',\n 'calvo',\n 'cama',\n 'camara',\n 'cambiado',\n 'cambiamos',\n 'cambiar',\n 'cambio',\n 'camellos',\n 'cami',\n 'camilo99fuegos',\n 'caminando',\n 'caminar',\n 'camino',\n 'camiseta',\n 'camisetas',\n 'camión',\n 'campamento',\n 'campanas',\n 'campaña',\n 'campeonato',\n 'campeón',\n 'camula7',\n 'canal',\n 'canas',\n 'cancelar',\n 'cancha',\n 'cancion',\n 'canción',\n 'candetinelli',\n 'candidato',\n 'canguro',\n 'cannabis',\n 'cansada',\n 'cansado',\n 'cansé',\n 'cantante',\n 'cantar',\n 'cap',\n 'capacidad',\n 'capacitarse',\n 'capaz',\n 'capitulito',\n 'capitulo',\n 'cappelli',\n 'cappu1550',\n 'caps',\n 'cara',\n 'caramelos',\n 'carcajadas',\n 'carga',\n 'cargador',\n 'cargosos',\n 'carillas',\n 'carinanovarese',\n 'carita',\n 'caritas',\n 'caritativo',\n 'carlos',\n 'carnè',\n 'caro',\n 'carodominguezuy',\n 'carolinaache',\n 'carpaccio',\n 'cartas',\n 'cartoon',\n 'carísimo',\n 'casa',\n 'casada',\n 'casamiento',\n 'cascotazos',\n 'caso',\n 'casos',\n 'castondarx',\n 'casualidad',\n 'cat',\n 'catadiaz100',\n 'causa',\n 'cautiverio',\n 'cavando',\n 'caí',\n 'caída',\n 'cbaballe2',\n 'cc',\n 'ccaigo',\n 'cco',\n 'cdo',\n 'ce',\n 'cebolla',\n 'cecilia',\n 'ceda',\n 'ceden',\n 'cedrezzz',\n 'cel',\n 'cele',\n 'celeste',\n 'celina',\n 'celta',\n 'celu',\n 'celular',\n 'cenar',\n 'censura',\n 'cero',\n 'cerrayvamos',\n 'cerveza',\n 'cesaramartinezr',\n 'challenge',\n 'championes',\n 'champions',\n 'chance',\n 'chapa',\n 'chapecoense',\n 'charla',\n 'charlas',\n 'charlotte',\n 'charlotte_chc',\n 'chasis',\n 'chasquetti',\n 'chat',\n 'chatear',\n 'chauuu',\n 'chaval',\n 'che',\n 'chica',\n 'chicadelbidon',\n 'chicas',\n 'chicharra',\n 'chico',\n 'chicos',\n 'chile',\n 'chilena',\n 'chileno',\n 'chilenos',\n 'chin',\n 'china',\n 'chingao',\n 'chino',\n 'chiquilin',\n 'chiquilines',\n 'chiquititas',\n 'chistos',\n 'chofer',\n 'cholulear',\n 'chorros_uy',\n 'chrisnamus',\n 'chula',\n 'chupapijas',\n 'chávez',\n 'ciega',\n 'cientificos',\n 'científica',\n 'cigarrillos',\n 'cine',\n 'circuitos',\n 'citados',\n 'cites',\n 'ciudad',\n 'ciudad_com',\n 'claraklayton',\n 'claro',\n 'clase',\n 'clases',\n 'clasico',\n 'clasifiquen',\n 'clauchoarrionda',\n 'claudiosk_23',\n 'click',\n 'clicks',\n 'cliente',\n 'clientes',\n 'club',\n 'clásico',\n 'clínica',\n 'cmenghi',\n 'cminana',\n 'cobmigo',\n 'cobra',\n 'cobrar',\n 'coche',\n 'cocina',\n 'coco',\n 'cocoramazzi',\n 'col',\n 'colifaback',\n 'colombia',\n 'color',\n 'colorante',\n 'com',\n 'combatir',\n 'coment',\n 'comenta',\n 'comentario',\n 'comentarios',\n 'comer',\n 'comeria',\n 'comete',\n 'comi',\n 'comida',\n 'comidas',\n 'comienzo',\n 'comió',\n 'community',\n 'compadres',\n 'compara',\n 'compartir',\n 'comparto',\n 'compartí',\n 'compañera',\n 'compañeras',\n 'compañero',\n 'compañeros',\n 'competencia',\n 'compitas',\n 'completo',\n 'complicada',\n 'complicado',\n 'complicando',\n 'comportamiento',\n 'comprada',\n 'comprando',\n 'comprar',\n 'comprarme',\n 'compre',\n 'compren',\n 'comprende',\n 'compro',\n 'comprobado',\n 'comprometerse',\n 'comprometida',\n 'compromiso',\n 'compré',\n 'compu',\n 'computación',\n 'comunidad',\n 'comunistas',\n 'común',\n 'concepto',\n 'concha',\n 'concierto',\n 'condimento',\n 'conducta',\n 'conductor',\n 'conectad',\n 'conectado',\n 'confe',\n 'confianza',\n 'confirma',\n 'confía',\n 'conjuntivitis',\n 'conmebol',\n 'conmigo',\n 'conoce',\n 'conocen',\n 'conocerte',\n 'conocida',\n 'conocido',\n 'conocimiento',\n 'conocí',\n 'conozca',\n 'conozcamos',\n 'conozco',\n 'conradoh47',\n 'consecutivo',\n 'conseguirte',\n 'consejos',\n 'consideraba',\n 'conspirando',\n 'constanza_fa',\n 'consulta',\n 'consultar',\n 'consultas',\n 'contactamos',\n 'contacte',\n 'contacto',\n 'contactos',\n 'contame',\n 'contando',\n 'contenta',\n 'contento',\n 'contentos',\n 'contestame',\n 'contestaremos',\n 'contesto',\n 'contigo',\n 'contracturada',\n 'contracturado',\n 'contrarias',\n 'contrario',\n 'contundente',\n 'conté',\n 'convencemos',\n 'convencido',\n 'convenir',\n 'convoca',\n 'convocatoria',\n 'cooper',\n 'coordinador',\n 'coordinamos',\n 'copa',\n 'copada',\n 'copado',\n 'copas',\n 'copio',\n 'cora',\n 'corazón',\n 'corosenlamosta',\n 'corporativismo',\n 'corre',\n 'correcto',\n 'corresponde',\n 'correspondiente',\n 'corriendo',\n 'corriennndddooo',\n 'cortado',\n 'corte',\n 'cosa',\n 'coso',\n 'costo',\n 'costumbre',\n 'cotidianas',\n 'crack',\n 'creación',\n 'crean',\n 'creas',\n 'crecer',\n 'crecerán',\n 'creciendo',\n 'credencial',\n 'cree',\n 'creemos',\n 'creen',\n 'creer',\n 'creerlo',\n 'creerte',\n 'crees',\n 'cremas',\n 'crermela',\n 'crezca',\n 'crimen',\n 'cris',\n 'crisacmol',\n 'crisis',\n 'cristina',\n 'criterios',\n 'critican',\n 'criya59',\n 'cronistacom',\n 'crueldad',\n 'cruzarme',\n 'cuadernola',\n 'cuadra',\n 'cuadradoandres',\n 'cuadro',\n 'cuadros',\n 'cualquiera',\n 'cuan',\n 'cuantas',\n 'cuartito',\n 'cuartos',\n 'cucha',\n 'cuelga',\n 'cuello',\n 'cuenten',\n 'cuento',\n 'cuerpo',\n 'cuervotinelli',\n 'cuesta',\n 'cuestionario',\n 'cuida',\n 'cuidar',\n 'cuidarme',\n 'cuidate',\n 'cuide',\n 'culo',\n 'culpa',\n 'cumple',\n 'cumpleaños',\n 'cumplir',\n 'cumplo',\n 'cupos',\n 'curioso',\n 'curso',\n 'curva',\n 'cutcsa',\n 'cutcsaok',\n 'cuál',\n 'cuándo',\n 'cuánto',\n 'cuántos',\n 'cyberplant',\n 'cybertario',\n 'cátedra',\n 'cómplices',\n 'dados',\n 'dakota',\n 'dalasito2003',\n 'dama',\n 'dando',\n 'dani',\n 'danielapirezfie',\n 'danieldaners',\n 'danieldelocos',\n 'danielp75949320',\n 'dannyvile',\n 'daphneedenis',\n 'daremos',\n 'daria',\n 'darle',\n 'darte',\n 'darías',\n 'das',\n 'dato',\n 'datos',\n 'davusito',\n 'day',\n 'daño',\n 'dbarindelli1',\n 'dcho',\n 'dchos',\n 'ddhh',\n 'debemos',\n 'deberían',\n 'debo',\n 'decanoypadre',\n 'decente',\n 'decepcionada',\n 'decepcionó',\n 'decida',\n ...]"
     },
     "execution_count": 9,
     "metadata": {},
     "output_type": "execute_result"
    }
   ],
   "source": [
    "count_vector.fit(documents)\n",
    "names = count_vector.get_feature_names()\n",
    "names"
   ]
  },
  {
   "cell_type": "code",
   "execution_count": 10,
   "id": "00976f1c",
   "metadata": {
    "pycharm": {
     "name": "#%%\n"
    }
   },
   "outputs": [
    {
     "data": {
      "text/plain": "array([[0, 0, 0, ..., 0, 0, 0],\n       [0, 0, 0, ..., 0, 0, 0],\n       [0, 0, 0, ..., 0, 0, 0],\n       ...,\n       [0, 0, 0, ..., 0, 0, 0],\n       [0, 0, 0, ..., 0, 0, 0],\n       [0, 0, 0, ..., 0, 0, 0]], dtype=int64)"
     },
     "execution_count": 10,
     "metadata": {},
     "output_type": "execute_result"
    }
   ],
   "source": [
    "doc_array = count_vector.transform(documents).toarray()\n",
    "doc_array"
   ]
  },
  {
   "cell_type": "code",
   "execution_count": 11,
   "id": "66b48b94",
   "metadata": {
    "pycharm": {
     "name": "#%%\n"
    }
   },
   "outputs": [
    {
     "data": {
      "text/plain": "     00  095327750  0hmyvolunteer  10  100  10_nov  11  115  12  14  ...  \\\n0     0          0              0   0    0       0   0    0   0   0  ...   \n1     0          0              0   0    0       0   0    0   0   0  ...   \n2     0          0              0   0    0       0   0    0   0   0  ...   \n3     0          0              0   0    0       0   0    0   0   0  ...   \n4     0          0              0   0    0       0   0    0   0   0  ...   \n..   ..        ...            ...  ..  ...     ...  ..  ...  ..  ..  ...   \n938   0          0              0   0    0       0   0    0   0   0  ...   \n939   0          0              0   0    0       0   0    0   0   0  ...   \n940   0          0              0   0    0       0   0    0   0   0  ...   \n941   0          0              0   0    0       0   0    0   0   0  ...   \n942   0          0              0   0    0       0   0    0   0   0  ...   \n\n     íntimo  ñato  ñery  ños  ómnibus  única  únicamente  único  útil  útiles  \n0         0     0     0    0        0      0           0      0     0       0  \n1         0     0     0    0        0      0           0      0     0       0  \n2         0     0     0    0        0      0           0      0     0       0  \n3         0     0     0    0        0      0           0      0     0       0  \n4         0     0     0    0        0      0           0      0     0       0  \n..      ...   ...   ...  ...      ...    ...         ...    ...   ...     ...  \n938       0     0     0    0        0      0           0      0     0       0  \n939       0     0     0    0        0      0           0      0     0       0  \n940       0     0     0    0        0      0           0      0     0       0  \n941       0     0     0    0        0      0           0      0     0       0  \n942       0     0     0    0        0      0           0      0     0       0  \n\n[943 rows x 3950 columns]",
      "text/html": "<div>\n<style scoped>\n    .dataframe tbody tr th:only-of-type {\n        vertical-align: middle;\n    }\n\n    .dataframe tbody tr th {\n        vertical-align: top;\n    }\n\n    .dataframe thead th {\n        text-align: right;\n    }\n</style>\n<table border=\"1\" class=\"dataframe\">\n  <thead>\n    <tr style=\"text-align: right;\">\n      <th></th>\n      <th>00</th>\n      <th>095327750</th>\n      <th>0hmyvolunteer</th>\n      <th>10</th>\n      <th>100</th>\n      <th>10_nov</th>\n      <th>11</th>\n      <th>115</th>\n      <th>12</th>\n      <th>14</th>\n      <th>...</th>\n      <th>íntimo</th>\n      <th>ñato</th>\n      <th>ñery</th>\n      <th>ños</th>\n      <th>ómnibus</th>\n      <th>única</th>\n      <th>únicamente</th>\n      <th>único</th>\n      <th>útil</th>\n      <th>útiles</th>\n    </tr>\n  </thead>\n  <tbody>\n    <tr>\n      <th>0</th>\n      <td>0</td>\n      <td>0</td>\n      <td>0</td>\n      <td>0</td>\n      <td>0</td>\n      <td>0</td>\n      <td>0</td>\n      <td>0</td>\n      <td>0</td>\n      <td>0</td>\n      <td>...</td>\n      <td>0</td>\n      <td>0</td>\n      <td>0</td>\n      <td>0</td>\n      <td>0</td>\n      <td>0</td>\n      <td>0</td>\n      <td>0</td>\n      <td>0</td>\n      <td>0</td>\n    </tr>\n    <tr>\n      <th>1</th>\n      <td>0</td>\n      <td>0</td>\n      <td>0</td>\n      <td>0</td>\n      <td>0</td>\n      <td>0</td>\n      <td>0</td>\n      <td>0</td>\n      <td>0</td>\n      <td>0</td>\n      <td>...</td>\n      <td>0</td>\n      <td>0</td>\n      <td>0</td>\n      <td>0</td>\n      <td>0</td>\n      <td>0</td>\n      <td>0</td>\n      <td>0</td>\n      <td>0</td>\n      <td>0</td>\n    </tr>\n    <tr>\n      <th>2</th>\n      <td>0</td>\n      <td>0</td>\n      <td>0</td>\n      <td>0</td>\n      <td>0</td>\n      <td>0</td>\n      <td>0</td>\n      <td>0</td>\n      <td>0</td>\n      <td>0</td>\n      <td>...</td>\n      <td>0</td>\n      <td>0</td>\n      <td>0</td>\n      <td>0</td>\n      <td>0</td>\n      <td>0</td>\n      <td>0</td>\n      <td>0</td>\n      <td>0</td>\n      <td>0</td>\n    </tr>\n    <tr>\n      <th>3</th>\n      <td>0</td>\n      <td>0</td>\n      <td>0</td>\n      <td>0</td>\n      <td>0</td>\n      <td>0</td>\n      <td>0</td>\n      <td>0</td>\n      <td>0</td>\n      <td>0</td>\n      <td>...</td>\n      <td>0</td>\n      <td>0</td>\n      <td>0</td>\n      <td>0</td>\n      <td>0</td>\n      <td>0</td>\n      <td>0</td>\n      <td>0</td>\n      <td>0</td>\n      <td>0</td>\n    </tr>\n    <tr>\n      <th>4</th>\n      <td>0</td>\n      <td>0</td>\n      <td>0</td>\n      <td>0</td>\n      <td>0</td>\n      <td>0</td>\n      <td>0</td>\n      <td>0</td>\n      <td>0</td>\n      <td>0</td>\n      <td>...</td>\n      <td>0</td>\n      <td>0</td>\n      <td>0</td>\n      <td>0</td>\n      <td>0</td>\n      <td>0</td>\n      <td>0</td>\n      <td>0</td>\n      <td>0</td>\n      <td>0</td>\n    </tr>\n    <tr>\n      <th>...</th>\n      <td>...</td>\n      <td>...</td>\n      <td>...</td>\n      <td>...</td>\n      <td>...</td>\n      <td>...</td>\n      <td>...</td>\n      <td>...</td>\n      <td>...</td>\n      <td>...</td>\n      <td>...</td>\n      <td>...</td>\n      <td>...</td>\n      <td>...</td>\n      <td>...</td>\n      <td>...</td>\n      <td>...</td>\n      <td>...</td>\n      <td>...</td>\n      <td>...</td>\n      <td>...</td>\n    </tr>\n    <tr>\n      <th>938</th>\n      <td>0</td>\n      <td>0</td>\n      <td>0</td>\n      <td>0</td>\n      <td>0</td>\n      <td>0</td>\n      <td>0</td>\n      <td>0</td>\n      <td>0</td>\n      <td>0</td>\n      <td>...</td>\n      <td>0</td>\n      <td>0</td>\n      <td>0</td>\n      <td>0</td>\n      <td>0</td>\n      <td>0</td>\n      <td>0</td>\n      <td>0</td>\n      <td>0</td>\n      <td>0</td>\n    </tr>\n    <tr>\n      <th>939</th>\n      <td>0</td>\n      <td>0</td>\n      <td>0</td>\n      <td>0</td>\n      <td>0</td>\n      <td>0</td>\n      <td>0</td>\n      <td>0</td>\n      <td>0</td>\n      <td>0</td>\n      <td>...</td>\n      <td>0</td>\n      <td>0</td>\n      <td>0</td>\n      <td>0</td>\n      <td>0</td>\n      <td>0</td>\n      <td>0</td>\n      <td>0</td>\n      <td>0</td>\n      <td>0</td>\n    </tr>\n    <tr>\n      <th>940</th>\n      <td>0</td>\n      <td>0</td>\n      <td>0</td>\n      <td>0</td>\n      <td>0</td>\n      <td>0</td>\n      <td>0</td>\n      <td>0</td>\n      <td>0</td>\n      <td>0</td>\n      <td>...</td>\n      <td>0</td>\n      <td>0</td>\n      <td>0</td>\n      <td>0</td>\n      <td>0</td>\n      <td>0</td>\n      <td>0</td>\n      <td>0</td>\n      <td>0</td>\n      <td>0</td>\n    </tr>\n    <tr>\n      <th>941</th>\n      <td>0</td>\n      <td>0</td>\n      <td>0</td>\n      <td>0</td>\n      <td>0</td>\n      <td>0</td>\n      <td>0</td>\n      <td>0</td>\n      <td>0</td>\n      <td>0</td>\n      <td>...</td>\n      <td>0</td>\n      <td>0</td>\n      <td>0</td>\n      <td>0</td>\n      <td>0</td>\n      <td>0</td>\n      <td>0</td>\n      <td>0</td>\n      <td>0</td>\n      <td>0</td>\n    </tr>\n    <tr>\n      <th>942</th>\n      <td>0</td>\n      <td>0</td>\n      <td>0</td>\n      <td>0</td>\n      <td>0</td>\n      <td>0</td>\n      <td>0</td>\n      <td>0</td>\n      <td>0</td>\n      <td>0</td>\n      <td>...</td>\n      <td>0</td>\n      <td>0</td>\n      <td>0</td>\n      <td>0</td>\n      <td>0</td>\n      <td>0</td>\n      <td>0</td>\n      <td>0</td>\n      <td>0</td>\n      <td>0</td>\n    </tr>\n  </tbody>\n</table>\n<p>943 rows × 3950 columns</p>\n</div>"
     },
     "execution_count": 11,
     "metadata": {},
     "output_type": "execute_result"
    }
   ],
   "source": [
    "frequency_matrix = pd.DataFrame(data=doc_array, columns=names)\n",
    "frequency_matrix"
   ]
  },
  {
   "cell_type": "code",
   "execution_count": 11,
   "outputs": [],
   "source": [],
   "metadata": {
    "collapsed": false,
    "pycharm": {
     "name": "#%%\n"
    }
   }
  },
  {
   "cell_type": "code",
   "execution_count": null,
   "outputs": [],
   "source": [],
   "metadata": {
    "collapsed": false,
    "pycharm": {
     "name": "#%%\n"
    }
   }
  }
 ],
 "metadata": {
  "kernelspec": {
   "display_name": "Python 3 (ipykernel)",
   "language": "python",
   "name": "python3"
  },
  "language_info": {
   "codemirror_mode": {
    "name": "ipython",
    "version": 3
   },
   "file_extension": ".py",
   "mimetype": "text/x-python",
   "name": "python",
   "nbconvert_exporter": "python",
   "pygments_lexer": "ipython3",
   "version": "3.10.2"
  }
 },
 "nbformat": 4,
 "nbformat_minor": 5
}