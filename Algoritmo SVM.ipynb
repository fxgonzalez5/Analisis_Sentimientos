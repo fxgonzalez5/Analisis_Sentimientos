{
 "cells": [
  {
   "cell_type": "code",
   "execution_count": 45,
   "metadata": {
    "pycharm": {
     "name": "#%%\n"
    }
   },
   "outputs": [],
   "source": [
    "import pandas as pd\n",
    "import spacy\n",
    "from sklearn.feature_extraction.text import CountVectorizer\n",
    "from sklearn import svm\n",
    "from sklearn.model_selection import train_test_split\n",
    "from sklearn.metrics import accuracy_score, precision_score, recall_score, f1_score\n",
    "import pickle"
   ]
  },
  {
   "cell_type": "code",
   "execution_count": 46,
   "metadata": {
    "pycharm": {
     "name": "#%%\n"
    }
   },
   "outputs": [
    {
     "data": {
      "text/plain": "                                             content sentiment\n0                 @NoilyMV yo soy totalmente puntual      NONE\n1  @SandraCauffman Hola Sandrita. No le habia des...         P\n2  Si andan haciendo eso mejor se quedaran callad...         N\n3                     Que pereza quiero choco banano         N\n4  @robertobrenes Bueno, no es tanto lo mayor com...         N",
      "text/html": "<div>\n<style scoped>\n    .dataframe tbody tr th:only-of-type {\n        vertical-align: middle;\n    }\n\n    .dataframe tbody tr th {\n        vertical-align: top;\n    }\n\n    .dataframe thead th {\n        text-align: right;\n    }\n</style>\n<table border=\"1\" class=\"dataframe\">\n  <thead>\n    <tr style=\"text-align: right;\">\n      <th></th>\n      <th>content</th>\n      <th>sentiment</th>\n    </tr>\n  </thead>\n  <tbody>\n    <tr>\n      <th>0</th>\n      <td>@NoilyMV yo soy totalmente puntual</td>\n      <td>NONE</td>\n    </tr>\n    <tr>\n      <th>1</th>\n      <td>@SandraCauffman Hola Sandrita. No le habia des...</td>\n      <td>P</td>\n    </tr>\n    <tr>\n      <th>2</th>\n      <td>Si andan haciendo eso mejor se quedaran callad...</td>\n      <td>N</td>\n    </tr>\n    <tr>\n      <th>3</th>\n      <td>Que pereza quiero choco banano</td>\n      <td>N</td>\n    </tr>\n    <tr>\n      <th>4</th>\n      <td>@robertobrenes Bueno, no es tanto lo mayor com...</td>\n      <td>N</td>\n    </tr>\n  </tbody>\n</table>\n</div>"
     },
     "execution_count": 46,
     "metadata": {},
     "output_type": "execute_result"
    }
   ],
   "source": [
    "# Leer CSV\n",
    "df = pd.read_csv('./data/allData.csv')\n",
    "df.head()"
   ]
  },
  {
   "cell_type": "code",
   "execution_count": 47,
   "metadata": {
    "pycharm": {
     "name": "#%%\n"
    }
   },
   "outputs": [
    {
     "data": {
      "text/plain": "  Sentiments Unique\n0              NONE\n1                 P\n2                 N\n3               NEU",
      "text/html": "<div>\n<style scoped>\n    .dataframe tbody tr th:only-of-type {\n        vertical-align: middle;\n    }\n\n    .dataframe tbody tr th {\n        vertical-align: top;\n    }\n\n    .dataframe thead th {\n        text-align: right;\n    }\n</style>\n<table border=\"1\" class=\"dataframe\">\n  <thead>\n    <tr style=\"text-align: right;\">\n      <th></th>\n      <th>Sentiments Unique</th>\n    </tr>\n  </thead>\n  <tbody>\n    <tr>\n      <th>0</th>\n      <td>NONE</td>\n    </tr>\n    <tr>\n      <th>1</th>\n      <td>P</td>\n    </tr>\n    <tr>\n      <th>2</th>\n      <td>N</td>\n    </tr>\n    <tr>\n      <th>3</th>\n      <td>NEU</td>\n    </tr>\n  </tbody>\n</table>\n</div>"
     },
     "execution_count": 47,
     "metadata": {},
     "output_type": "execute_result"
    }
   ],
   "source": [
    "# Sentimientos únicos\n",
    "pd.DataFrame(df['sentiment'].unique(), columns=['Sentiments Unique'])"
   ]
  },
  {
   "cell_type": "code",
   "execution_count": 48,
   "metadata": {
    "pycharm": {
     "name": "#%%\n"
    }
   },
   "outputs": [
    {
     "data": {
      "text/plain": "                                                content  sentiment\n0                    @NoilyMV yo soy totalmente puntual          0\n1     @SandraCauffman Hola Sandrita. No le habia des...          3\n2     Si andan haciendo eso mejor se quedaran callad...          1\n3                        Que pereza quiero choco banano          1\n4     @robertobrenes Bueno, no es tanto lo mayor com...          1\n...                                                 ...        ...\n3670      @AmorAKilates @Roocio_Mk si me pasa lo mismo!          0\n3671  @clauchoarrionda pquno ladra y ls demas retwitean          2\n3672  A mi desayuno le hizo falta un alfajor podrida...          1\n3673  Viste cuando necesitas que alguien te escuche ...          1\n3674  @cuervotinelli @candetinelli Mañana es mi prim...          2\n\n[3675 rows x 2 columns]",
      "text/html": "<div>\n<style scoped>\n    .dataframe tbody tr th:only-of-type {\n        vertical-align: middle;\n    }\n\n    .dataframe tbody tr th {\n        vertical-align: top;\n    }\n\n    .dataframe thead th {\n        text-align: right;\n    }\n</style>\n<table border=\"1\" class=\"dataframe\">\n  <thead>\n    <tr style=\"text-align: right;\">\n      <th></th>\n      <th>content</th>\n      <th>sentiment</th>\n    </tr>\n  </thead>\n  <tbody>\n    <tr>\n      <th>0</th>\n      <td>@NoilyMV yo soy totalmente puntual</td>\n      <td>0</td>\n    </tr>\n    <tr>\n      <th>1</th>\n      <td>@SandraCauffman Hola Sandrita. No le habia des...</td>\n      <td>3</td>\n    </tr>\n    <tr>\n      <th>2</th>\n      <td>Si andan haciendo eso mejor se quedaran callad...</td>\n      <td>1</td>\n    </tr>\n    <tr>\n      <th>3</th>\n      <td>Que pereza quiero choco banano</td>\n      <td>1</td>\n    </tr>\n    <tr>\n      <th>4</th>\n      <td>@robertobrenes Bueno, no es tanto lo mayor com...</td>\n      <td>1</td>\n    </tr>\n    <tr>\n      <th>...</th>\n      <td>...</td>\n      <td>...</td>\n    </tr>\n    <tr>\n      <th>3670</th>\n      <td>@AmorAKilates @Roocio_Mk si me pasa lo mismo!</td>\n      <td>0</td>\n    </tr>\n    <tr>\n      <th>3671</th>\n      <td>@clauchoarrionda pquno ladra y ls demas retwitean</td>\n      <td>2</td>\n    </tr>\n    <tr>\n      <th>3672</th>\n      <td>A mi desayuno le hizo falta un alfajor podrida...</td>\n      <td>1</td>\n    </tr>\n    <tr>\n      <th>3673</th>\n      <td>Viste cuando necesitas que alguien te escuche ...</td>\n      <td>1</td>\n    </tr>\n    <tr>\n      <th>3674</th>\n      <td>@cuervotinelli @candetinelli Mañana es mi prim...</td>\n      <td>2</td>\n    </tr>\n  </tbody>\n</table>\n<p>3675 rows × 2 columns</p>\n</div>"
     },
     "execution_count": 48,
     "metadata": {},
     "output_type": "execute_result"
    }
   ],
   "source": [
    "# Conversión de sentiments a variables numéricas\n",
    "df['sentiment'] = df.sentiment.map({'NONE':0, 'N':1, 'NEU':2, 'P':3})\n",
    "\n",
    "# Vizualización de los sentimientos modificados\n",
    "df"
   ]
  },
  {
   "cell_type": "code",
   "execution_count": 49,
   "outputs": [
    {
     "data": {
      "text/plain": "['yo',\n 'soy',\n '.',\n 'No',\n 'le',\n 'habia',\n 'un',\n 'dia',\n 'de',\n 'la',\n ',',\n 'tarde',\n 'pero',\n '¿',\n 'Sabe',\n 'usted',\n 'si',\n 'ha',\n 'mas',\n '?',\n 'Si',\n 'haciendo',\n 'eso',\n 'mejor',\n 'se',\n 'así',\n 'están',\n 'ellas',\n 'mismas',\n 'e',\n 'que',\n 'son',\n 'unas',\n 'Que',\n 'Bueno',\n 'no',\n 'es',\n 'tanto',\n 'lo',\n 'mayor',\n 'como',\n 'cuánto',\n 'sea',\n 'en',\n 'cada',\n 'tu',\n 'por',\n 'todo',\n 'el',\n 'día',\n 'mi',\n 'y',\n 'Estaba',\n 'ahí',\n 'El',\n 'Y',\n 'los',\n 'fueron',\n 'todavía',\n 'En',\n 'hay',\n 'me',\n 'van',\n 'a',\n 'las',\n 'Tengo',\n 'tengo',\n 'QUÉ',\n 'HAGO',\n 'puedo',\n 'más',\n 'ni',\n '1',\n '13:4-5',\n 'Buen',\n 'todos',\n 'o2',\n '...',\n '6:00',\n 'al',\n 'con',\n 'ver',\n 'una',\n 'Lo',\n 'peor',\n 'tiene',\n '5',\n 'HACE',\n 'era',\n 'creo',\n 'mio',\n '!',\n 'Casi',\n 'ya',\n 'Con',\n 'del',\n '150kmph',\n '@Colucci_99',\n 'Esas',\n 'he',\n 'hasta',\n 'ahora',\n 'Antes',\n 'hace',\n '..',\n 'Buenas',\n 'Me',\n '50mil',\n 'manera',\n 'hacer',\n 'toda',\n 'esta',\n '12',\n '@josdav17',\n 'nunca',\n 'hacen',\n 'nada',\n 'según',\n 'ellos',\n 'o',\n '4',\n 'veces',\n '¡',\n 'te',\n 'La',\n 'vamos',\n 'Hoy',\n '2',\n ')',\n 'Por',\n 'qué',\n 'hoy',\n 'TANTO',\n 'Porque',\n 'dar',\n 'después',\n 'Aquí',\n '#',\n 'dónde',\n 'consigo',\n 'buen',\n 'unos',\n '@sancarlena77',\n 'A',\n 'mí',\n 'dan',\n 'acuerdo',\n 'está',\n 'muy',\n 'quiere',\n 'desde',\n 'Buena',\n '\"',\n '10',\n 'porque',\n 'estoy',\n 'quedó',\n 'Mi',\n 'va',\n 'para',\n '1000',\n '@mr_matth',\n '@France2tv',\n 'él',\n 'sido',\n 'parte',\n 'junto',\n 'MUCHAS',\n 'Mejor',\n 'buenas',\n 'este',\n 'tan',\n 'poca',\n 'ser',\n 'cuando',\n 'dejó',\n ':',\n 'Estar',\n 'menos',\n '@rociomoram29',\n 'mal',\n 'tener',\n 'bueno',\n 'igual',\n 'siempre',\n 'sus',\n 'fue',\n 'mucho',\n 'pasada',\n 'primera',\n 'nadie',\n 'asi',\n 'suyo',\n '@KristelS18',\n 'Yo',\n 'solo',\n '(',\n 'Qué',\n 'Tan',\n 'sé',\n 'Sólo',\n 'vez',\n 'TODA',\n '25',\n 'estos',\n 'dos',\n 'días',\n 'demasiado',\n 'cuenta',\n 'tenido',\n '@Andreagraseq79',\n 'dio',\n '2016-2017',\n 'voy',\n 'Buenos',\n 'aunque',\n 'algo',\n '9:20',\n '8',\n 'bien',\n 'hizo',\n '14',\n 'último',\n 'vaya',\n 'mía',\n 'LA',\n 'han',\n 'Nos',\n '@miguesl21',\n 'estas',\n 'ningún',\n 'sabe',\n 'cuanto',\n 'ir',\n 'Los',\n 'entonces',\n 'Eso',\n 'poder',\n 'Bien',\n 'tienen',\n 'Cual',\n 'Como',\n 'donde',\n 'muchas',\n 'Ya',\n 'propias',\n 'su',\n '@me_aburris',\n 'Sí',\n 'Le',\n 'esto',\n 'antes',\n 'nuevo',\n 'quizá',\n 'quienes',\n 'usas',\n 'uso',\n 'uno',\n 'ese',\n 'Hay',\n 'otros',\n 'Igual',\n 'también',\n 'sí',\n 'estaba',\n '7:30am',\n 'Te',\n '3',\n 'U',\n '@',\n 'había',\n 'Pero',\n 'puede',\n 'aún',\n '2000',\n 'ella',\n 'Es',\n ':/',\n '@Starbucks_cr',\n 'Son',\n '6',\n 'sino',\n \"'\",\n 'estar',\n 'quién',\n '@Varce_c',\n 'Muy',\n 'tuyo',\n 'Nada',\n 'fuera',\n 'luego',\n '@dimar1712',\n 'cómo',\n '30',\n 'acompañarnos,30',\n 'ustedes',\n 'MIL',\n 'cierto',\n '@raqueabr02',\n 'sobre',\n 'usar',\n 'nuestra',\n 'nos',\n 'mil',\n 'haya',\n '13',\n '16',\n 'otras',\n 'dias',\n '@Starbucks_CT',\n 'mismo',\n 'pronto',\n '@rafa514x',\n 'será',\n 'Esa',\n 'otra',\n 'buena',\n 'Aunque',\n '9',\n 'esa',\n 'misma',\n 'mis',\n 'casi',\n 'diferente',\n '@D4rkusPl4y',\n 'durante',\n '@andreareyes6767',\n 'algún',\n '18',\n 'Soy',\n 'dijo',\n 'fin',\n 'tenía',\n 'cuarto',\n 'aquí',\n 'Todos',\n 'final',\n '*',\n 'verdad',\n 'suyos',\n 'adelante',\n 'Quizá',\n '330mil',\n 'siguiente',\n 'ti',\n '2225-3080',\n '/',\n '8827-1559',\n 'Será',\n 'Ni',\n 'saber',\n 'gran',\n '143:8',\n '@H_E_Y',\n 'temprano',\n 'poner',\n '@eliana_gab',\n 'Puedo',\n 'Mis',\n 'nuevas',\n '200',\n '@ang_qs_flp',\n 'Esta',\n '@me_mata',\n 'Una',\n 'Hace',\n 'apenas',\n 'Entre',\n 'hecho',\n 'esas',\n 'claro',\n 'Pues',\n 'lado',\n 'dentro',\n 'Se',\n 'nayma_vp',\n 'otro',\n '@mapashito73',\n 'supuesto',\n 'posible',\n 'esos',\n 'tenga',\n 'da',\n 'pueden',\n '@Nats_Castro',\n 'sola',\n 'TAN',\n 'pasado',\n 'sin',\n '@_monsejimenezp',\n 'cual',\n 'Días',\n 'Siempre',\n 'deprisa',\n '@katty_Loz',\n 'muchos',\n 'Cuando',\n 'De',\n 'ocho',\n 'undécimo',\n 'debe',\n 'habrá',\n '@Ka_Arroyo',\n '_',\n 'demás',\n 'Ese',\n 'existen',\n 'nueva',\n '@Javi_Guerrero97',\n 'Estas',\n 'Voy',\n ';_;',\n 'dicho',\n 'sólo',\n ';',\n 'solamente',\n 'Así',\n '12md',\n '7.30',\n 'Era',\n '5:15',\n 'Muchas',\n 'podría',\n '@BooCr2012',\n 'contra',\n 'cualquier',\n '1.55',\n 'buenos',\n 'sean',\n '@Pandax14Cr',\n '@Chepe_Centro',\n 'nuevos',\n 'parece',\n 'Ahora',\n 'Las',\n 'algunas',\n 'dice',\n 'tuya',\n 'última',\n 'mío',\n 'poco',\n '@Christ_Campos06',\n 'saben',\n 'primero',\n 'además',\n '@KamilaR94',\n '10%',\n 'Estoy',\n '@JPR_CR',\n 'Primer',\n 'Windows10',\n 'Para',\n '@arirs07',\n 'ahi',\n '168',\n '@JosePB17',\n 'podemos',\n '@amy_arom',\n 'EL',\n '@Javiercd18',\n 'haces',\n '@Emilio_Botas',\n 'dicen',\n 'todas',\n 'haber',\n 'ME',\n 'MI',\n '-.-',\n '40:11',\n '2:12',\n '17',\n 'hago',\n '@Phoenix2124',\n '1:30',\n 'decir',\n 'Fui',\n '@gabrielselva_cr',\n 'fui',\n '@PauArce21',\n '@_Star_Vader',\n '@Maceji87',\n 'O',\n 'tenemos',\n '@dianalaa32',\n 'iOS102',\n 'hablan',\n '@ChicadeHumo7',\n 'Les',\n '16:14',\n '@Rubiu5',\n '@avargas10785',\n 'lleva',\n '@David_Gato5',\n 'pues',\n 'estamos',\n '@andrest_12',\n 'Demasiado',\n 'Vamos',\n 'aun',\n 'Solo',\n '24/7',\n 'bastante',\n '7️',\n '@Alejandro__Ge',\n 'siendo',\n '@nathy_ab',\n '100%',\n 'Nadie',\n 'conmigo',\n 'estan',\n 'Aún',\n 'Estos',\n '@cinn_gc10',\n 'Un',\n '@_void07',\n 'Todo',\n 'Este',\n 'Después',\n 'últimos',\n 'estaban',\n 'grandes',\n '@Kevoludo24',\n '@vikyro18',\n 'ps4',\n 'llegó',\n '-',\n '@MarianaCruz04',\n 'BUENOS',\n 'largo',\n '@Mariete772',\n '@Vane_Arcia',\n '@Noy_07',\n 'llevar',\n 'mucha',\n '@croq29',\n 'tus',\n 'somos',\n 'aquel',\n 'Otro',\n '@Oski_1991',\n 'eran',\n '@jaoc03',\n 'Hasta',\n 'existe',\n '8-1',\n '@Tia_Yeye',\n '@Jacko_Pinto',\n '@UnZorro88',\n 'hubo',\n 'grande',\n 'MisPropositosPara2017Son',\n 'Ahí',\n 'ESTOY',\n 'DEL',\n 'primer',\n '@GuillermoBarqu1',\n 'verdadera',\n '@andrea___cr',\n 'Primera',\n '@Jorge_Rivera8',\n 'También',\n '…',\n 'varios',\n 'usan',\n '21',\n '@arlynerl03',\n 'Podría',\n 'Día',\n 'quien',\n '@franky2055',\n '85',\n '@meel_solis',\n 'les',\n 'Estuvo',\n '5comentarios',\n 'nosotros',\n 'hemos',\n '@mary_robre',\n 'Nunca',\n 'sería',\n 'Desde',\n 'primeros',\n '@MauFonseca11',\n 'tuvo',\n 'Otra',\n '2013',\n '-18',\n 'He',\n '@La_Llama',\n '@nitamar26',\n '2x1',\n 'tampoco',\n '@absa_lon',\n 'YA',\n '@Juanjo90',\n '@CataSolis20',\n 'Mucho',\n 'bajo',\n 'encima',\n '@BaldiHotSpring1',\n 'tal',\n 'Todas',\n '@soofpe06',\n '@m_elinna',\n 'Podemos',\n '@valeub25',\n 'varias',\n 'site5',\n '@charito_garcia',\n 'hacerlo',\n '@silviauc_cr',\n 'propia',\n '@limite21',\n 'Alguna',\n 'estado',\n '@Fressia_Montero',\n '@azul999fm',\n '@lamejor991fm',\n '@OK1055FM',\n 'Él',\n '@fabian05_p',\n 'cuál',\n 'tercera',\n 'tres',\n 'COMO',\n '50',\n '2hrs35min',\n 'segunda',\n 'serán',\n 'próximo',\n '@Ana_AvilaM',\n '@fersalas2205',\n '26',\n 'YSF2',\n '@semrush_es',\n 'NUNCA',\n 'Creo',\n '•',\n '@ESPN_FDJ',\n '@cris525cr',\n 'Sin',\n 'mientras',\n '11.46PM',\n '@Adri_hdezv',\n '@latrwn1',\n '@_AlejandroDP',\n 'moisesylos10mandamientos',\n '@Erito0513',\n 'Algo',\n '@Brenes0791',\n '@edmed82',\n '@massiel_ml',\n 'sigue',\n '@NachoSantos7',\n 'Segundo',\n '73',\n '@KimSalas21',\n '20',\n '@car_hidalgo',\n '@vesamo13',\n '@gaby_mata25',\n '@GLOri_177',\n 'debajo',\n 'MÁS',\n 'DE',\n '2016',\n '@gat1tu',\n '@Chamo_A',\n 'Todavía',\n '@oviedo_6',\n '@luisricardo_28',\n '@danielugalde07',\n '@Stedich7',\n '10:30',\n '7',\n '@vale24_12',\n 'Toda',\n 'Esto',\n '24',\n '@germangn09',\n '@Dr_ivrecagu',\n 'Sería',\n '@HenAubSol17',\n '@Luis_GadeaA',\n '@victorA_perez',\n 'dieron',\n '@Leiva89',\n 'Está',\n '@conejoceni01',\n 'Cada',\n '@Andrey_Amador',\n '@charlie10cr',\n 'Tener',\n '@KaroRC4',\n 'eres',\n '109',\n '@__el_Negro',\n '@Chelo1478',\n '@LuisEs22',\n 'Fue',\n 'fuimos',\n '@KimberlyReyesC4',\n '@Jey_Gut',\n 'Aun',\n 'entre',\n 'deben',\n 'Ser',\n '@Jovel_Alvarez',\n 'ninguna',\n '@Alphasniper97',\n '2017',\n '@miguelpintor05',\n 'anterior',\n '—',\n 'tú',\n 'cuantos',\n 'TODO',\n 'Cómo',\n '23',\n 'eras',\n '29',\n 'sera',\n '@gvlo2008',\n 'ELLA',\n 'salu2',\n 'Saben',\n '8.2',\n 'Al',\n '12.32%',\n 'LAS',\n 'Ella',\n 'millón',\n '@Samm_Bntz',\n '70',\n 'hicieron',\n '6:30',\n 'nosotras',\n 'pueda',\n 'arriba',\n '10:10',\n '1965',\n 'ésta',\n '15',\n 'dijeron',\n 'medio',\n 'Esos',\n '@diego_galvan',\n 'trata',\n '5%',\n '1er',\n '32',\n '30.Y',\n '27',\n '500',\n 'PS3',\n 'propio',\n '.....',\n 's3',\n 'pesar',\n 'mismos',\n 'dado',\n 'Tu',\n '@karycruz24',\n '@rashel09',\n '@rosiles_meza',\n '@analu31090',\n '@mx_df',\n 'contigo',\n 'Eres',\n '....',\n '@Juan_Mpc',\n '@eli_rivas10',\n 'Sera',\n 'To3',\n '8:30',\n 'Pueden',\n 'NO',\n 'Mil',\n 'cuales',\n '@iaz84',\n '3d',\n '@estarc62',\n 'ninguno',\n '@hugo_mcc',\n '6:34',\n 'habla',\n 'partir',\n 'estuvo',\n 'segundo',\n 'breve',\n 'TE',\n 'Sé',\n 'Incluso',\n '150,debo',\n 'éste',\n '@Cochy_Tj',\n '2/2',\n '@jeri4queen',\n 'sabes',\n '@tomo_como_rey',\n 'ES',\n '31',\n 'Usa',\n 'tuyos',\n 'ONQ16',\n '@DafneCa1',\n '@maciosare75',\n '28',\n '15%',\n '@EduardoRamos95R',\n 'Shrek2',\n 'Dos',\n 'Su',\n '11:00',\n '@_NoSoyArtista',\n '@marthaor2010',\n '10pax',\n '-$200',\n '20pax',\n '320',\n '280',\n '400',\n '@travel_gaia',\n 'Tenemos',\n 'Quién',\n 'Verdad',\n '@Ale_Jaramillo',\n 'queremos',\n 'nuestras',\n 'U2',\n '@lili_blend',\n '@L337LAG',\n 'x2',\n 'ante',\n 'propios',\n 'total',\n '@Yo_Soy_B',\n '@juanchogerk9',\n 'modo',\n 'fiesta17millones',\n 'QUE',\n 'Estará',\n 'pudo',\n '@chelita19_esme',\n '@alexMay_Be',\n '@ladelbosque29',\n 'aqui',\n '@Horantheworld20',\n '@pablocampos98',\n '@La_Joyita2',\n 'Hecho',\n '@Kresnik02',\n '64',\n 'Luego',\n '@izzi_mx',\n 'diez',\n 'ello',\n '4:18',\n 'Mucha',\n '@UrielCastillo93',\n '@deba12334',\n '@Tribuna_I',\n 'Apenas',\n 'VA',\n 'BUENA',\n 'habían',\n '@swish41',\n '._.',\n 'Sobre',\n 'POR',\n 'través',\n 'TENER',\n '@raramo74',\n '@ana_sofmt',\n '@luismartiinez28',\n 'pocos',\n 'Parece',\n '@Soul_Vedder',\n '@FerReyees19',\n '@Abiel_Vasquez',\n '2C',\n '@Jhovanny920218',\n '45min',\n 'cuantas',\n '@Swimmer_IT',\n 'Según',\n '@la_sol_soleil',\n '@edo_diaz',\n 'Hemos',\n '@Ferchitomen11',\n 's900',\n '8:26',\n '@susana_tb',\n 'despues',\n '11:14',\n 'Primero',\n '@jair_mendieta',\n '24hrs',\n 'este2017',\n 'estará',\n '@HazzaLovesMe69',\n 'cinco',\n 'Última',\n '@ItzeelF18',\n 'incluso',\n '@CFE_GolfoNte',\n '@g_yubari',\n 'suyas',\n '@Elenacastillo08',\n 'tambien',\n 'Mas',\n 'alguna',\n 'SI',\n 'HOY',\n 'SEA',\n '@xxleonxx67',\n '@monssev12',\n 'X2',\n '@lapizito123',\n 'diferentes',\n 'VideoMTV2016',\n 'Ninguna',\n '@vidal_guitar',\n 'suya',\n 'USA',\n '+500',\n '@MaRkIyO1992',\n 'Ha',\n 'sl200',\n '6141727708',\n '@AyD_ParaTi',\n '@Planeta947',\n '@Los40ec',\n 'los40',\n '@humbertodiaz22',\n 'Mientras',\n '@CauteSol22',\n '@Diegongo81',\n '@johnny26cesc',\n 'EN',\n 'GRANDE',\n 'TUS',\n 'PARA',\n 'ESTE',\n '@RAMMS09',\n '@David17519416',\n '@bucio_lesly',\n '@_alineepa',\n '@bayou7478',\n '6k',\n '@Cruz_Azul_FC',\n '@J_Pietra',\n '@adriantr09',\n '@KoenmaJr20',\n 'Tal',\n '@L_ArellanoN',\n 'Va',\n 'MEJOR',\n 'conocer',\n '@ivonnems28',\n '@alfa913fm',\n '2018',\n 'todavia',\n '@Jimmy_Jammes',\n 'Tenía',\n 'hacia',\n 'AL',\n 'LOS',\n 'F1',\n '&',\n 'Sabes',\n '@vegetta777',\n 'nuestro',\n '@Sara_G2',\n '«',\n '»',\n '@Eudemonologia87',\n '@Pagano656',\n 'nueStra',\n 'Cuándo',\n '@EEnrique_F',\n '@mabonitatuya1',\n '@Samemo11',\n 'tras',\n 'cien',\n 'Nuevo',\n 'Cero',\n '@Diablin13',\n 'Sigue',\n '@karench0708',\n 'Ultimo',\n '@Juan_S_Alba',\n '@She_RA_H',\n '@ALMA13',\n 'respecto',\n 'conseguir',\n 'Estamos',\n '@Siempre889',\n 'Van',\n 'NI',\n ...]"
     },
     "execution_count": 49,
     "metadata": {},
     "output_type": "execute_result"
    }
   ],
   "source": [
    "# Almacenamiento de stop_words\n",
    "documents = df['content'].to_list()\n",
    "nlp = spacy.load(\"es_core_news_sm\")\n",
    "stopWordsSpanish = []\n",
    "\n",
    "for text in documents:\n",
    "    myDoc = nlp(text)\n",
    "    for word in myDoc:\n",
    "        if word.is_stop is True and word.text not in stopWordsSpanish:\n",
    "            stopWordsSpanish.append(word.text)\n",
    "            #print(word.text)\n",
    "\n",
    "        if word.like_num is True and word.text not in stopWordsSpanish:\n",
    "            stopWordsSpanish.append(word.text)\n",
    "            #print(word.text)\n",
    "\n",
    "        if word.is_punct is True and word.text not in stopWordsSpanish:\n",
    "            stopWordsSpanish.append(word.text)\n",
    "            #print(word.text)\n",
    "\n",
    "        if any(chr.isdigit() or chr == '_' for chr in word.text) and word.text not in stopWordsSpanish:\n",
    "            stopWordsSpanish.append(word.text)\n",
    "            #print(word.text)\n",
    "\n",
    "stopWordsSpanish"
   ],
   "metadata": {
    "collapsed": false,
    "pycharm": {
     "name": "#%%\n"
    }
   }
  },
  {
   "cell_type": "code",
   "execution_count": 50,
   "metadata": {
    "pycharm": {
     "name": "#%%\n"
    }
   },
   "outputs": [],
   "source": [
    "# Inicialización del Contador de Vectorización\n",
    "count_vector = CountVectorizer(stop_words=stopWordsSpanish)"
   ]
  },
  {
   "cell_type": "code",
   "execution_count": 51,
   "outputs": [
    {
     "name": "stderr",
     "output_type": "stream",
     "text": [
      "C:\\Users\\ASUS\\Documents\\Entornos\\Entorno01\\lib\\site-packages\\sklearn\\feature_extraction\\text.py:404: UserWarning: Your stop_words may be inconsistent with your preprocessing. Tokenizing the stop words generated tokens ['00', '000', '00am', '02', '03', '04', '0hmyvolunteer', '102', '10_nov', '10s', '143', '150', '1559', '1d', '1maaariii1', '204danielle', '20s', '22', '2225', '2820gchu', '2891891cap', '2c', '2tes', '3080', '30am', '30hs', '30pm', '3k', '46pm', '55', '5honamas', '5nfidente', '60', '7000', '74evmm', '80', '87', '8827', '90feliznavidad', '99allison11', '9km', '__el_negro', '__josejuan', '__walter', '_adrianaquevedo', '_alejandrodp', '_alineepa', '_anatabeira', '_cmere', '_fer_alonso', '_fersha', '_josejones', '_mariajosee', '_melibarra', '_monsejimenezp', '_nosoyartista', '_pepepar', '_star_vader', '_suniac', '_void07', 'abbu25', 'abby_maff', 'abiel_vasquez', 'absa_lon', 'acompañarnos', 'adri_hdezv', 'adri_tranqui', 'adriantr09', 'afigue2010', 'agronegocios_uy', 'agusblanco01', 'agusti_pena', 'alain_rincon', 'ale_jaramillo', 'alejandro__ge', 'alejandro_mhr', 'alejandrogonz37', 'alem4p', 'alevar13', 'alevr9', 'alexmay_be', 'alfa913fm', 'alfredo_bruno', 'aliciamares98', 'alita_ntvg', 'alma13', 'alphasniper97', 'alvarezvigo12', 'amorins8', 'amy_arom', 'ana_avilam', 'ana_sofmt', 'analu31090', 'andrea___cr', 'andreacarcamo7', 'andreagraseq79', 'andreareyes6767', 'andresdarmas2', 'andrest_12', 'andrey_amador', 'andycamus8', 'ang_qs_flp', 'angies_ay', 'ap', 'apec2016', 'arirs07', 'arlynerl03', 'arq_fmartinez', 'artux_creed', 'atenea2guerrera', 'aue', 'avargas10785', 'ayd_parati', 'azul999fm', 'años', 'baldihotspring1', 'bambino627', 'barossi_luzmila', 'barsacampeon10', 'batalla_epica', 'bayou7478', 'beeeel12', 'ber_uy', 'boocr2012', 'borisgolu10', 'brenes0791', 'brunasosa7', 'brunch_bcn', 'bucio_lesly', 'camilacabello97', 'camilo99fuegos', 'camula7', 'cappu1550', 'car_hidalgo', 'carmenlo19', 'catadiaz100', 'catasolis20', 'cautesol22', 'cbaballe2', 'cfe_golfonte', 'chamo_a', 'charito_garcia', 'charlie10cr', 'charlotte_chc', 'chelita19_esme', 'chelo1478', 'chepe_centro', 'chicadehumo7', 'chino_padrino', 'chorros_uy', 'christ_campos06', 'cindy_k20', 'cinn_gc10', 'cirribarren1924', 'ciudad_com', 'claudiosk_23', 'clauu_ruiz14', 'cochy_tj', 'coco_cocain', 'colucci_99', 'combate_atv', 'conejoceni01', 'conradoh47', 'constanza_fa', 'cornejorugel31', 'cracks_oficial', 'cris525cr', 'criya59', 'croq29', 'cruz_azul_fc', 'cruzers_peru', 'cuántos', 'd4rkuspl4y', 'dafneca1', 'dalasito2003', 'dane_ng', 'danielp75949320', 'danielperedo17', 'danielugalde07', 'danielurresti1', 'dariozapata_14', 'david17519416', 'david_gato5', 'davidjeffer06', 'dbarindelli1', 'deba12334', 'debo', 'deejay_madox', 'demianchildemb1', 'dennis08481468', 'desayunos12', 'di3goc', 'diablin13', 'dianalaa32', 'dianasanchez_04', 'dicediego1', 'diego_14', 'diego_baca', 'diego_galvan', 'diego_vallarino', 'diegongo81', 'dimar1712', 'diverso_alex', 'dmartinez_uy', 'dr_ivrecagu', 'dra_eutanasia', 'ecos_la', 'edelacr7', 'edmed82', 'edo_diaz', 'eduardoramos95r', 'eenrique_f', 'elbajimenez9', 'ele417', 'elenacastillo08', 'eli_rivas10', 'eliana_gab', 'elsamariadelca1', 'elsueco76', 'emilio_botas', 'emy_9810', 'enana1515', 'erito0513', 'espn_fdj', 'estarc62', 'estoesguerra_tv', 'eudemonologia87', 'ezies19', 'f1', 'fabian05_p', 'fanta_esp', 'faz500', 'fecheverria50', 'felíces21', 'ferchitomen11', 'fernan_caceres', 'fernando_amado', 'ferreyees19', 'fersalas2205', 'fifa15', 'fiorela_gue', 'fiorellacayo1', 'flacoricardo19', 'flopi_soberon', 'flor93', 'flor_pistone', 'flor_uy', 'floralonso79', 'florguedes24', 'france2tv', 'franky2055', 'fressia_montero', 'fs_ol_qbnfangrl', 'g8', 'g_yubari', 'gabriel_hgs', 'gabrielselva_cr', 'gabs_saucedo', 'gaby_mata25', 'gaston_acurio', 'gat1tu', 'gen_ghibli', 'germangn09', 'ghosthunter342', 'gianeraffo14', 'giulijs7', 'glori_177', 'golden254', 'gordo_lado', 'gracesusan1958', 'grisel_ok', 'grumimantis20', 'guia_montevideo', 'guillermobarqu1', 'gvlo2008', 'h_e_y', 'hanover07127260', 'hazzalovesme69', 'hectorandres8', 'henaubsol17', 'horantheworld20', 'huargo1', 'hugo_mcc', 'humbertodiaz22', 'ias25viki', 'iaz84', 'igalvar71', 'ios102', 'iri_becaria', 'isachi8', 'isgra3111', 'itzeelf18', 'ivanandres2410', 'ivonnems28', 'izzi_mx', 'j_b_rodriguez', 'j_pietra', 'jacko_pinto', 'jaime_cruzroman', 'jair_mendieta', 'jaoc03', 'jaquelinr5', 'javi_guerrero97', 'javiercd18', 'jayah29', 'jdelossantos201', 'jeansuarez33', 'jeri4queen', 'jey_gut', 'jhovanny920218', 'jime_rodriguez6', 'jimena_quijano', 'jimmy_jammes', 'jis_cuva', 'jjnl21', 'johnny26cesc', 'jorge_rivera8', 'josdav17', 'josepb17', 'jovel_alvarez', 'jpl0uis', 'jpr_cr', 'juan_mpc', 'juan_s_alba', 'juanamaro22', 'juanchogerk9', 'juanemartinez17', 'juanitinelli_1', 'juanjo90', 'judithpaulsen7', 'julirod14', 'julyyh18', 'junchyg16', 'ka_arroyo', 'kamilar94', 'kanalla10', 'karench0708', 'karim0603', 'karinledl1', 'karorc4', 'karycruz24', 'katty_loz', 'katy_mili', 'kev_rogers', 'kevoludo24', 'kiki_fiore', 'kimberlyreyesc4', 'kimsalas21', 'klarita56', 'kloz234456', 'koenmajr20', 'kresnik02', 'kristels18', 'l337lag', 'l_arellanon', 'la_joyita2', 'la_llama', 'la_sol_soleil', 'laa_ceciper', 'ladelbosque29', 'laliab24', 'lalocosta96', 'lamejor991fm', 'lapizito123', 'lascosas690', 'latrwn1', 'laugamer721', 'leiva89', 'leomall2018', 'leonardo_veglio', 'leot1971', 'letsgroove27', 'lian_u', 'lili_blend', 'liliramos6', 'limite21', 'linkinparkenperu2017', 'lito0404', 'lizdanielalina1', 'loli17', 'loli_pontes', 'loquilla_si', 'los40ec', 'lucialu26', 'luis_2lo', 'luis_gadeaa', 'luisenrique3365', 'luises22', 'luismartiinez28', 'luisricardo_28', 'luissuarez9', 'lux_obrien', 'luzsalgado_r', 'm_elinna', 'm_mandariin', 'mabonitatuya1', 'maceji87', 'maciosare75', 'madame36', 'malabrigo25', 'malfitan0', 'mapashito73', 'maqui13', 'marberrondo2', 'mariafederica8', 'marianacruz04', 'mariapaolini5', 'mariapiasilva12', 'mariete772', 'marinachan555', 'mario_hart', 'mariova52', 'markiyo1992', 'marthaor2010', 'martinparedes90', 'mary_robre', 'massiel_ml', 'matiasrivero21', 'maufonseca11', 'mayra_zepeda', 'mcdonalds_per', 'mchl1782', 'me_aburris', 'me_mata', 'meel_solis', 'mhbazzino10', 'microbox6', 'miguelpintor05', 'miguesl21', 'mijacabello97', 'mispropositospara2017son', 'mister__lemon', 'mmacri1', 'monich16', 'monssev12', 'monteroenzo1899', 'mor_ticia', 'mr_matth', 'mx_df', 'nachosantos7', 'naomiviera1', 'naomizamudio97', 'nathy_ab', 'nats_castro', 'natt985', 'ncouto2000', 'neneelx276', 'niaso01', 'nico_selser', 'nicolasalvarez0', 'nicolascabrera4', 'nifunifa4', 'nitamar26', 'noy_07', 'nueve', 'nunez_rodrigo', 'o_o', 'ok1055fm', 'old_sound', 'onq16', 'oski_1991', 'osscar_ii', 'oviedo_6', 'p0nja', 'pablocampos98', 'pablocardozo_uy', 'pablomonti1', 'pagano656', 'pandax14cr', 'pao_vales', 'paolamattos11', 'pauaj97', 'pauarce21', 'pepi_goncalvez', 'perroju666', 'phoenix2124', 'phoyu_agustina', 'pkba88', 'planeta947', 'plustv6', 'pontifex_es', 'pp_uy', 'pr0duc3r', 'primerafuente1', 'ps3', 'queremoserdlalas930pm', 'rabii_says', 'racosta86', 'radio_oxigeno', 'rafa514x', 'ramms09', 'raqueabr02', 'raramo74', 'rashel09', 're100', 'recomienda_pe', 'renzo_ariza', 'ricardo_arjona', 'richardread2014', 'richie2492', 'rickdo92', 'robert1891', 'roberto_anchia', 'rociomoram29', 'rocktor101', 'ron_quintanilla', 'roocio_mk', 'rosa_forno', 'rosiles_meza', 'roso_54', 'rosua15ad', 'rubiu5', 'ruta14', 'samemo11', 'samm_bntz', 'sancarlena77', 'sanper11', 'santytkd11', 'sara17almada', 'sara17almada1', 'sara_g2', 'saravia_caro', 'sari_lm', 'sbarreiro1985', 'semrush_es', 'sergiouy125', 'sergiouy52', 'sermex2006', 'sessh0marusama', 'she_ra_h', 'sheo_series', 'shewolf_byu', 'shrek2', 'siempre889', 'siento', 'silva_alvan', 'silviauc_cr', 'silviocabj12', 'sin_queso', 'socialistas90', 'sofia_garciarmz', 'soofpe06', 'soul_vedder', 'sr_pelaez', 'srp1410', 'starbucks_cr', 'starbucks_ct', 'stedich7', 'studio92', 'susana_tb', 'swimmer_it', 'swish41', 'taxibeat_lima', 'te_quiero_solita_pa_mi', 'the_souloflion', 'thecr_man', 'thiago23ok', 'tia_yeye', 'tiaeuge2011', 'to3', 'tolotelli14', 'tomo_como_rey', 'topyman980', 'tqm', 'travel_gaia', 'tribuna_i', 'u2', 'uber_uy', 'umbral2005', 'unzorro88', 'urielcastillo93', 'val05r', 'vale24_12', 'valentamara3', 'valeub25', 'valezka38', 'vane_arcia', 'vanessasaba75', 'vanina_lee', 'varce_c', 'vecort1577', 'vegetta777', 'vere_mc', 'veronica_alonso', 'verte', 'vesamo13', 'vgardini25', 'victora_perez', 'victorita_fest', 'vidal_guitar', 'videomtv2016', 'vikyro18', 'virginiagy8', 'vivianagarcia73', 'vmayo72', 'wendyriveran1', 'will2380', 'windows10', 'ximena_casanova', 'ximena_miami', 'ximepa95', 'xxleonxx67', 'yanac0895', 'yo_soy_b', 'yosoy_peru', 'ysf2', 'zabdiel1344', 'zabdielitas_m', 'zeta_dos'] not in stop_words.\n",
      "  warnings.warn(\n",
      "C:\\Users\\ASUS\\Documents\\Entornos\\Entorno01\\lib\\site-packages\\sklearn\\utils\\deprecation.py:87: FutureWarning: Function get_feature_names is deprecated; get_feature_names is deprecated in 1.0 and will be removed in 1.2. Please use get_feature_names_out instead.\n",
      "  warnings.warn(msg, category=FutureWarning)\n"
     ]
    },
    {
     "data": {
      "text/plain": "['00',\n '000',\n '00am',\n '02',\n '03',\n '04',\n '0hmyvolunteer',\n '102',\n '10_nov',\n '10am',\n '10s',\n '11pm',\n '143',\n '150',\n '1559',\n '1cm',\n '1d',\n '1k',\n '1maaariii1',\n '204danielle',\n '20s',\n '22',\n '2225',\n '2820gchu',\n '2891891cap',\n '2c',\n '2pm',\n '2tes',\n '3080',\n '30am',\n '30cm',\n '30hs',\n '30pm',\n '3k',\n '3pm',\n '46pm',\n '4am',\n '4g',\n '4k',\n '55',\n '5honamas',\n '5nfidente',\n '60',\n '6pm',\n '7000',\n '74evmm',\n '7am',\n '80',\n '87',\n '8827',\n '8am',\n '8g',\n '90feliznavidad',\n '99allison11',\n '9am',\n '9km',\n '__',\n '__el_negro',\n '__josejuan__',\n '__walter__',\n '_adrianaquevedo',\n '_alejandrodp',\n '_alineepa',\n '_anatabeira',\n '_cmere',\n '_fer_alonso',\n '_fersha_',\n '_josejones',\n '_mariajosee_',\n '_melibarra',\n '_monsejimenezp',\n '_nosoyartista',\n '_pepepar',\n '_star_vader',\n '_suniac',\n '_tener',\n '_void07',\n 'aaa',\n 'aaaa',\n 'aaaaaaah',\n 'aaah',\n 'aaahhhhggg',\n 'ab',\n 'abajo',\n 'abandonada',\n 'abandonado',\n 'abarcara',\n 'abbu25',\n 'abby_maff',\n 'abcdesignated',\n 'abdiel',\n 'abdielsmusic',\n 'abdon',\n 'abeftlouis',\n 'abieeflores',\n 'abiel_vasquez',\n 'abierta',\n 'abierto',\n 'abiertos',\n 'abis',\n 'abocajarroperu',\n 'abogado',\n 'abordar',\n 'abossus',\n 'abrace',\n 'abracen',\n 'abraces',\n 'abraham',\n 'abrahamer',\n 'abrahamers',\n 'abrahammateoenuruguay',\n 'abrahammateoesp',\n 'abrahammateomus',\n 'abraza',\n 'abrazadas',\n 'abrazar',\n 'abrazarla',\n 'abrazarte',\n 'abrazo',\n 'abrazos',\n 'abrazote',\n 'abre',\n 'abren',\n 'abriendo',\n 'abrigada',\n 'abril',\n 'abrimos',\n 'abrir',\n 'abrirme',\n 'abrían',\n 'absa_lon',\n 'absolutamente',\n 'absolvieron',\n 'abstencion',\n 'abu',\n 'abuela',\n 'abuelita',\n 'abuelo',\n 'abuelos',\n 'abundancia',\n 'aburre',\n 'aburrida',\n 'aburridas',\n 'aburrido',\n 'aburridos',\n 'aburrieron',\n 'aburrimiento',\n 'aburro',\n 'abusar',\n 'abuso',\n 'aca',\n 'acaba',\n 'acabados',\n 'acaban',\n 'acabarme',\n 'acabaron',\n 'acabas',\n 'acabaste',\n 'acabe',\n 'acabo',\n 'acabé',\n 'acabó',\n 'acampar',\n 'acceso',\n 'accidentado',\n 'accidente',\n 'acción',\n 'aceite',\n 'aceito',\n 'acentos',\n 'aceptadas',\n 'aceptando',\n 'aceptar',\n 'acepte',\n 'acepto',\n 'aceptó',\n 'acerca',\n 'acercan',\n 'acercó',\n 'acertar',\n 'achachaaaaay',\n 'aclaman',\n 'aclarar',\n 'acomodar',\n 'acomodo',\n 'acompañarme',\n 'acompañarnos',\n 'acompañarte',\n 'acompañe',\n 'acompañes',\n 'acompañándolos',\n 'acondicionador',\n 'acondionado',\n 'acordada',\n 'acordar',\n 'acordarse',\n 'acordas',\n 'acorde',\n 'acordé',\n 'acosando',\n 'acostada',\n 'acostado',\n 'acostados',\n 'acostumbra',\n 'acostumbrada',\n 'acostumbrado',\n 'acostumbraron',\n 'acostumbrarse',\n 'acostumbraste',\n 'acostumbres',\n 'acosté',\n 'action',\n 'actitud',\n 'activa',\n 'activar',\n 'actividad',\n 'actividades',\n 'activismo',\n 'activo',\n 'actuación',\n 'actual',\n 'actuales',\n 'actualizaciones',\n 'actualización',\n 'actualizado',\n 'actualizar',\n 'actúe',\n 'acuarelas',\n 'acude',\n 'acuerda',\n 'acuerdan',\n 'acuerdoo',\n 'acuerdos',\n 'acueste',\n 'acuesto',\n 'acules',\n 'acuérdense',\n 'acá',\n 'adaptan',\n 'adaptarme',\n 'adarle',\n 'adas',\n 'adeladubra',\n 'adelantar',\n 'adelgazando',\n 'ademàs',\n 'adentro',\n 'adictivo',\n 'adictoslali',\n 'adidas',\n 'adiosparismx',\n 'adivinen',\n 'adiós',\n 'admirable',\n 'admirando',\n 'admiro',\n 'admita',\n 'admitas',\n 'admito',\n 'adolescencia',\n 'adolescente',\n 'adolfoaguilarv',\n 'adolorida',\n 'adolorido',\n 'adopta',\n 'adoptda',\n 'adoptó',\n 'adorable',\n 'adorables',\n 'adorkblelaura',\n 'adorno',\n 'adoro',\n 'adquirí',\n 'adquiría',\n 'adri_hdezv',\n 'adri_tranqui',\n 'adriantixyt',\n 'adriantr09',\n 'adruari',\n 'adulterado',\n 'adulto',\n 'adultos',\n 'adversarios',\n 'aeropuerto',\n 'aeropuertos',\n 'aeróbico',\n 'afectada',\n 'afectado',\n 'afectados',\n 'afectan',\n 'afecto',\n 'afichesmanudos',\n 'aficionada',\n 'aficionadas',\n 'afigue2010',\n 'afiliados',\n 'afirmaciones',\n 'aflojando',\n 'afortunadamente',\n 'afranchesqui',\n 'afrontarlos',\n 'after',\n 'afuera',\n 'again',\n 'agarra',\n 'agarrado',\n 'agarran',\n 'agarrarle',\n 'agarrarte',\n 'agarras',\n 'agarre',\n 'agarro',\n 'agarró',\n 'agasajo',\n 'agazzi',\n 'agencia',\n 'agencias',\n 'agentes',\n 'aggggg',\n 'aggroqueenfay',\n 'agilista',\n 'agitarlo',\n 'agobiantes',\n 'agota',\n 'agotada',\n 'agotador',\n 'agotan',\n 'agotando',\n 'agrada',\n 'agradable',\n 'agradables',\n 'agradece',\n 'agradecer',\n 'agradeceria',\n 'agradecida',\n 'agradecido',\n 'agradecimiento',\n 'agradezco',\n 'agradó',\n 'agraria',\n 'agregan',\n 'agregar',\n 'agregaron',\n 'agrego',\n 'agregue',\n 'agresión',\n 'agronegocios_uy',\n 'agu',\n 'agua',\n 'aguacate',\n 'aguaceros',\n 'aguadance',\n 'aguanta',\n 'aguantar',\n 'aguante',\n 'aguanten',\n 'aguanto',\n 'aguanté',\n 'aguas',\n 'aguascalientes',\n 'aguilas',\n 'agusblanco01',\n 'agusti_pena',\n 'agustin',\n 'agustinineedyou',\n 'agustozuloeta',\n 'agustín',\n 'agüita',\n 'ah',\n 'ahahahahah',\n 'ahead',\n 'ahh',\n 'ahhh',\n 'ahhhh',\n 'ahome',\n 'ahorita',\n 'ahorrado',\n 'ahorrar',\n 'ahorraste',\n 'ahr',\n 'ahre',\n 'ahsroanoke',\n 'aikonmx',\n 'aimee',\n 'aimeraus',\n 'aire',\n 'aiuda',\n 'aiudame',\n 'ajaj',\n 'ajaja',\n 'ajajaja',\n 'ajajajaja',\n 'ajajajajaja',\n 'ajajajajajja',\n 'ajajjaja',\n 'ajajjajajaja',\n 'ajamaica',\n 'ajbodoc',\n 'ajena',\n 'ajeno',\n 'ajjaja',\n 'ajjajaj',\n 'ajuangorena',\n 'ajustado',\n 'akatsukis',\n 'ala',\n 'alacranes',\n 'alain_rincon',\n 'alan',\n 'alangarciaperu',\n 'alarga',\n 'alarma',\n 'alas',\n 'albañil',\n 'alberto',\n 'albertomoolina',\n 'albertomunoz',\n 'albertoraimundi',\n 'albertovill',\n 'alborotada',\n 'alcance',\n 'alcanza',\n 'alcanzaba',\n 'alcanzado',\n 'alcanzar',\n 'alcanzarlos',\n 'alcanzo',\n 'alcanzó',\n 'alcen',\n 'alcohol',\n 'alcurnia',\n 'aldanaperezz',\n 'aldo',\n 'ale',\n 'ale_jaramillo',\n 'alearguellof',\n 'alebaie_',\n 'alededecanocom',\n 'aleeseke',\n 'alefpiro',\n 'alegra',\n 'alegran',\n 'alegrando',\n 'alegras',\n 'alegre',\n 'alegria',\n 'alegro',\n 'alegría',\n 'alejandra',\n 'alejandro',\n 'alejandro__ge',\n 'alejandro_mhr',\n 'alejandrogonz37',\n 'alejandrosanz',\n 'alejandrotoledo',\n 'alejarme',\n 'alejaron',\n 'alejense',\n 'alejes',\n 'alejoabarca',\n 'alejoigoa',\n 'alejvillalobos',\n 'alejé',\n 'alelaneta',\n 'alem4p',\n 'alentador',\n 'alentamos',\n 'alergia',\n 'alergias',\n 'alerta',\n 'aleteknicolor',\n 'aletzagogo',\n 'alevar13',\n 'alevr9',\n 'alex',\n 'alexalaire',\n 'alexbadilla',\n 'alexiapalacio',\n 'alexime',\n 'alexis',\n 'alexisdescalzo',\n 'alexjuxx',\n 'alexmay_be',\n 'alfa913fm',\n 'alfajor',\n 'alfajores',\n 'alfredo',\n 'alfredo_bruno',\n 'alférez',\n 'alg',\n 'alguien',\n 'algun',\n 'ali',\n 'aliado',\n 'aliados',\n 'alias',\n 'alicia',\n 'aliciamares98',\n 'aliciavery',\n 'aliens',\n 'aliento',\n 'alienware',\n 'alimarve',\n 'alimentarme',\n 'alimentos',\n 'alissonayala',\n 'alita_ntvg',\n 'alitamontevideo',\n 'alito',\n 'all',\n 'alla',\n 'allá',\n 'alma',\n 'alma13',\n 'almacenamiento',\n 'almacén',\n 'almahistorica',\n 'almendras',\n 'almenos',\n 'almohada',\n 'almorzando',\n 'almorzar',\n 'almost',\n 'almuerzito',\n 'almuerzo',\n 'alonso',\n 'alpha',\n 'alphasniper97',\n 'alpiocosta',\n 'alta',\n 'alterna',\n 'alternas',\n 'alternativa',\n 'alto',\n 'altura',\n 'alturas',\n 'alucina',\n 'alucinógeno',\n 'alur',\n 'alv',\n 'alvamendz',\n 'alvarado',\n 'alvarezvigo12',\n 'alvarolevrero',\n 'alvaroqgonz',\n 'alvarostoll',\n 'alvarothais',\n 'alvrod',\n 'always',\n 'alza',\n 'am',\n 'ama',\n 'amaba',\n 'amable',\n 'amables',\n 'amada',\n 'amado',\n 'amago',\n 'amamantarlos',\n 'amamos',\n 'aman',\n 'amando',\n 'amanecer',\n 'amaneció',\n 'amanecí',\n 'amanezco',\n 'amante',\n 'amar',\n 'amara',\n 'amareto',\n 'amargada',\n 'amargado',\n 'amargo',\n 'amargues',\n 'amarilla',\n 'amarnos',\n 'amartino',\n 'amas',\n 'amastnt',\n 'amateur',\n 'amaya',\n 'amazonas',\n 'ambiente',\n 'ambriz',\n 'ambulancia',\n 'ame',\n 'amena',\n 'amig',\n 'amiga',\n 'amigaa',\n 'amigas',\n 'amigo',\n 'amigos',\n 'amigues',\n 'amigui',\n 'amiguit',\n 'amiguito',\n 'amiguitos',\n 'amis',\n 'amistad',\n 'amiwoooooooooo',\n 'amixxx',\n 'amnesico',\n 'amo',\n 'amontonados',\n 'amoooooo',\n 'amor',\n 'amorakilates',\n 'amorcito',\n 'amores',\n 'amorins8',\n 'amorosa',\n 'amoroso',\n 'amors',\n 'amorsitooo',\n 'amp',\n 'amplia',\n 'amplificar',\n 'amy_arom',\n 'amén',\n 'américa',\n 'américas',\n 'an',\n 'ana',\n 'ana_avilam',\n 'ana_sofmt',\n 'anabelendoll',\n 'anabrendac',\n 'anahi',\n 'anahuac',\n 'analizar',\n 'analizo',\n 'analu31090',\n 'analítica',\n 'anamablaba',\n 'anarcofeminista',\n 'anarquistas',\n 'anaterran',\n 'anavm',\n 'ancianito',\n 'and',\n 'anda',\n 'andaba',\n 'andamos',\n 'andan',\n 'andar',\n 'andarle',\n 'andará',\n 'andas',\n 'andigu',\n 'ando',\n 'andrea',\n 'andrea___cr',\n 'andreaamena',\n 'andreacarcamo7',\n 'andreagraseq79',\n 'andrealuzuriaga',\n 'andreareyes6767',\n 'andrearivl',\n 'andreavasro',\n 'andrecorts',\n 'andresantoniuk',\n 'andrescastg',\n 'andresdarmas2',\n 'andresilvachuy',\n 'andrest_12',\n 'andrey_amador',\n 'androides',\n 'andrés',\n 'anduvo',\n 'andy',\n 'andycamus8',\n 'andynuinsa',\n 'andyygmes',\n 'andá',\n 'andábamos',\n 'andás',\n 'ang_qs_flp',\n 'angelabandonado',\n 'angeladelriom',\n 'angeldebritook',\n 'angelpaezs',\n 'angie',\n 'angies_ay',\n 'angosto',\n 'angustiante',\n 'anillos',\n 'animación',\n 'animal',\n 'animales',\n 'animalito',\n 'animalitos',\n 'animatowner',\n 'animemariana',\n 'animense',\n 'animo',\n 'anios',\n 'aniquilar',\n 'anis',\n 'anita',\n 'anitafb',\n 'annabrays',\n 'anoche',\n 'anotar',\n 'anotele',\n 'anoto',\n 'ansiedad',\n 'ansiosa',\n 'antebrazo',\n 'anteojos',\n 'anteriores',\n 'anticuada',\n 'anticíclicas',\n 'antiguo',\n 'anto',\n 'antojan',\n 'antojitos',\n 'antojo',\n 'antojó',\n 'antonellamombru',\n 'antotamilia',\n 'antrckstr',\n 'antrera',\n 'antu',\n 'antuanetgalvez',\n 'anturio',\n 'anuarrieta',\n 'anunciados',\n 'anunciar',\n 'anuncie',\n 'anuncios',\n 'anymore',\n 'anémica',\n 'ap',\n 'apaga',\n 'apago',\n 'apague',\n 'apagón',\n 'aparece',\n 'aparecen',\n 'aparecer',\n 'aparecieron',\n 'aparentemente',\n 'aparentes',\n 'aparentó',\n 'aparezca',\n 'aparezco',\n 'aparta',\n 'apartado',\n 'aparte',\n 'apartir',\n 'apasiona',\n 'apasionan',\n 'ape',\n 'apec2016',\n 'apellido',\n 'apellidos',\n 'apertura',\n 'apesta',\n 'api',\n 'aplasta',\n 'aplauden',\n 'aplica',\n 'aplicación',\n 'aplicarle',\n 'apliquen',\n 'aplícalo',\n 'apolillado',\n 'aportas',\n 'aportes',\n 'apostas',\n 'apoyalo',\n 'apoyando',\n 'apoyar',\n 'apoyarme',\n 'apoyen',\n 'apoyo',\n 'app',\n 'apple',\n 'apreciamos',\n 'aprecian',\n 'aprenda',\n 'aprende',\n 'aprender',\n 'aprendes',\n 'aprendido',\n 'aprendiendo',\n 'aprendì',\n 'apretada',\n 'aprobado',\n 'aprobé',\n 'apropiados',\n 'aprovechado',\n 'aprovechando',\n 'aprovechar',\n 'aprovechen',\n 'apruebe',\n 'apu',\n 'apuestas',\n 'apueste',\n 'apuesto',\n 'apunto',\n 'apuntó',\n 'apurando',\n 'apuras',\n 'apuñalan',\n 'apúntense',\n 'aqp',\n 'aquicolobanco',\n 'aquiestatugordobabymylove',\n 'arabella',\n 'aracelyperi',\n 'arana',\n 'aranca',\n 'arandapuig',\n 'aras',\n 'arayamas',\n 'araña',\n 'arañas',\n 'arbolito',\n 'arcaico',\n 'archivado',\n 'archivos',\n 'arco',\n 'arctic',\n 'arde',\n 'arden',\n 'ardua',\n 'arduo',\n 'arequipa',\n 'arg',\n 'argentina',\n 'argentinos',\n 'argento',\n 'argg',\n 'argirltecture_',\n 'argmau',\n 'argu',\n 'argumento',\n 'arirs07',\n 'arissima',\n 'arjona',\n 'ark',\n 'arlynerl03',\n 'armadacolombia',\n 'armadito',\n 'armado',\n 'armaggedon',\n 'armamentista',\n 'armar',\n 'armaremos',\n 'armas',\n 'armonia',\n 'arms',\n 'armys',\n 'arq_fmartinez',\n 'arranca',\n 'arrancarme',\n 'arrancó',\n 'arranque',\n 'arre',\n 'arregladito',\n 'arreglan',\n 'arreglar',\n 'arreglaría',\n 'arreglen',\n 'arreglo',\n 'arrepapá',\n 'arrepentido',\n 'arrepiento',\n 'arribaarg',\n 'arriesgarme',\n 'arriesgarse',\n 'arrimando',\n 'arrochadas',\n 'arrogues',\n 'arropé',\n 'arroz',\n 'arruinar',\n 'arruinará',\n 'arruinó',\n 'art',\n 'arte',\n 'artesanal',\n 'articulo',\n 'artista',\n 'artistas',\n 'arts',\n 'artux',\n 'artux_creed',\n 'artículo',\n 'as',\n 'asadito',\n 'asado',\n 'asalariados',\n 'asalto',\n 'ascnati',\n 'asco',\n 'aseguro',\n 'aseo',\n 'asesinado',\n 'asesinados',\n 'asesinato',\n 'asesino',\n 'ash',\n 'ashzamc',\n 'asicierto',\n 'asiento',\n 'asilascosas',\n 'asimetrico',\n 'asiq',\n 'asison',\n 'asistir',\n 'asiática',\n 'aslitan',\n 'asma',\n 'asociación',\n 'asombrosas',\n 'aspecto',\n 'aspectos',\n 'aspersor',\n 'asquerosa',\n 'asquito',\n 'assenethsoto',\n 'astrikiss',\n 'asueto',\n 'asuicideboy',\n 'asumir',\n 'asumo',\n 'asunto',\n 'asuntos',\n 'asustada',\n 'asustado',\n 'asímeduela',\n 'ataque',\n 'atardeceres',\n 'atasca',\n 'atascada',\n 'atascado',\n 'atascarse',\n 'atelierjaviercarbajal',\n 'atenciones',\n 'atención',\n 'atendió',\n 'atenea2guerrera',\n 'atenta',\n 'atentos',\n 'ateo',\n 'aterricen',\n 'atina',\n 'atine',\n 'atlas',\n 'atlgarza',\n 'atole',\n 'atractiva',\n 'atrapando',\n 'atrasado',\n 'atravesó',\n 'atrejoscr',\n 'atropellaron',\n 'atropelle',\n 'atrás',\n 'att',\n 'atte',\n 'attmx',\n 'attmxayuda',\n 'aturde',\n 'atvmasnoticias',\n 'audiencia',\n 'audifonos',\n 'audio',\n 'auditorio',\n 'audífonos',\n 'aue',\n 'aumentar',\n 'aunq',\n 'auronftomg',\n 'ausencia',\n 'auspicio',\n 'auto',\n 'autobús',\n 'autodestructivos',\n 'autografiado',\n 'autor',\n 'autos',\n 'autónomos',\n 'av',\n 'avances',\n 'avanza',\n 'avanzado',\n 'avanzar',\n 'avargas10785',\n 'avatar',\n 'aveces',\n 'avenida',\n 'aventamos',\n 'aventura',\n 'aventé',\n 'averno',\n 'avion',\n ...]"
     },
     "execution_count": 51,
     "metadata": {},
     "output_type": "execute_result"
    }
   ],
   "source": [
    "# Lista de palabrás únicas\n",
    "count_vector.fit(documents)\n",
    "names = count_vector.get_feature_names()\n",
    "names"
   ],
   "metadata": {
    "collapsed": false,
    "pycharm": {
     "name": "#%%\n"
    }
   }
  },
  {
   "cell_type": "code",
   "execution_count": 52,
   "outputs": [
    {
     "data": {
      "text/plain": "array([[0, 0, 0, ..., 0, 0, 0],\n       [0, 0, 0, ..., 0, 0, 0],\n       [0, 0, 0, ..., 0, 0, 0],\n       ...,\n       [0, 0, 0, ..., 0, 0, 0],\n       [0, 0, 0, ..., 0, 0, 0],\n       [0, 0, 0, ..., 0, 0, 0]], dtype=int64)"
     },
     "execution_count": 52,
     "metadata": {},
     "output_type": "execute_result"
    }
   ],
   "source": [
    "doc_array = count_vector.transform(documents).toarray()\n",
    "doc_array"
   ],
   "metadata": {
    "collapsed": false,
    "pycharm": {
     "name": "#%%\n"
    }
   }
  },
  {
   "cell_type": "code",
   "execution_count": 53,
   "outputs": [
    {
     "data": {
      "text/plain": "      00  000  00am  02  03  04  0hmyvolunteer  102  10_nov  10am  ...  úmica  \\\n0      0    0     0   0   0   0              0    0       0     0  ...      0   \n1      0    0     0   0   0   0              0    0       0     0  ...      0   \n2      0    0     0   0   0   0              0    0       0     0  ...      0   \n3      0    0     0   0   0   0              0    0       0     0  ...      0   \n4      0    0     0   0   0   0              0    0       0     0  ...      0   \n...   ..  ...   ...  ..  ..  ..            ...  ...     ...   ...  ...    ...   \n3670   0    0     0   0   0   0              0    0       0     0  ...      0   \n3671   0    0     0   0   0   0              0    0       0     0  ...      0   \n3672   0    0     0   0   0   0              0    0       0     0  ...      0   \n3673   0    0     0   0   0   0              0    0       0     0  ...      0   \n3674   0    0     0   0   0   0              0    0       0     0  ...      0   \n\n      única  únicamente  únicas  único  únicos  úrgeme  úselo  útil  útiles  \n0         0           0       0      0       0       0      0     0       0  \n1         0           0       0      0       0       0      0     0       0  \n2         0           0       0      0       0       0      0     0       0  \n3         0           0       0      0       0       0      0     0       0  \n4         0           0       0      0       0       0      0     0       0  \n...     ...         ...     ...    ...     ...     ...    ...   ...     ...  \n3670      0           0       0      0       0       0      0     0       0  \n3671      0           0       0      0       0       0      0     0       0  \n3672      0           0       0      0       0       0      0     0       0  \n3673      0           0       0      0       0       0      0     0       0  \n3674      0           0       0      0       0       0      0     0       0  \n\n[3675 rows x 11179 columns]",
      "text/html": "<div>\n<style scoped>\n    .dataframe tbody tr th:only-of-type {\n        vertical-align: middle;\n    }\n\n    .dataframe tbody tr th {\n        vertical-align: top;\n    }\n\n    .dataframe thead th {\n        text-align: right;\n    }\n</style>\n<table border=\"1\" class=\"dataframe\">\n  <thead>\n    <tr style=\"text-align: right;\">\n      <th></th>\n      <th>00</th>\n      <th>000</th>\n      <th>00am</th>\n      <th>02</th>\n      <th>03</th>\n      <th>04</th>\n      <th>0hmyvolunteer</th>\n      <th>102</th>\n      <th>10_nov</th>\n      <th>10am</th>\n      <th>...</th>\n      <th>úmica</th>\n      <th>única</th>\n      <th>únicamente</th>\n      <th>únicas</th>\n      <th>único</th>\n      <th>únicos</th>\n      <th>úrgeme</th>\n      <th>úselo</th>\n      <th>útil</th>\n      <th>útiles</th>\n    </tr>\n  </thead>\n  <tbody>\n    <tr>\n      <th>0</th>\n      <td>0</td>\n      <td>0</td>\n      <td>0</td>\n      <td>0</td>\n      <td>0</td>\n      <td>0</td>\n      <td>0</td>\n      <td>0</td>\n      <td>0</td>\n      <td>0</td>\n      <td>...</td>\n      <td>0</td>\n      <td>0</td>\n      <td>0</td>\n      <td>0</td>\n      <td>0</td>\n      <td>0</td>\n      <td>0</td>\n      <td>0</td>\n      <td>0</td>\n      <td>0</td>\n    </tr>\n    <tr>\n      <th>1</th>\n      <td>0</td>\n      <td>0</td>\n      <td>0</td>\n      <td>0</td>\n      <td>0</td>\n      <td>0</td>\n      <td>0</td>\n      <td>0</td>\n      <td>0</td>\n      <td>0</td>\n      <td>...</td>\n      <td>0</td>\n      <td>0</td>\n      <td>0</td>\n      <td>0</td>\n      <td>0</td>\n      <td>0</td>\n      <td>0</td>\n      <td>0</td>\n      <td>0</td>\n      <td>0</td>\n    </tr>\n    <tr>\n      <th>2</th>\n      <td>0</td>\n      <td>0</td>\n      <td>0</td>\n      <td>0</td>\n      <td>0</td>\n      <td>0</td>\n      <td>0</td>\n      <td>0</td>\n      <td>0</td>\n      <td>0</td>\n      <td>...</td>\n      <td>0</td>\n      <td>0</td>\n      <td>0</td>\n      <td>0</td>\n      <td>0</td>\n      <td>0</td>\n      <td>0</td>\n      <td>0</td>\n      <td>0</td>\n      <td>0</td>\n    </tr>\n    <tr>\n      <th>3</th>\n      <td>0</td>\n      <td>0</td>\n      <td>0</td>\n      <td>0</td>\n      <td>0</td>\n      <td>0</td>\n      <td>0</td>\n      <td>0</td>\n      <td>0</td>\n      <td>0</td>\n      <td>...</td>\n      <td>0</td>\n      <td>0</td>\n      <td>0</td>\n      <td>0</td>\n      <td>0</td>\n      <td>0</td>\n      <td>0</td>\n      <td>0</td>\n      <td>0</td>\n      <td>0</td>\n    </tr>\n    <tr>\n      <th>4</th>\n      <td>0</td>\n      <td>0</td>\n      <td>0</td>\n      <td>0</td>\n      <td>0</td>\n      <td>0</td>\n      <td>0</td>\n      <td>0</td>\n      <td>0</td>\n      <td>0</td>\n      <td>...</td>\n      <td>0</td>\n      <td>0</td>\n      <td>0</td>\n      <td>0</td>\n      <td>0</td>\n      <td>0</td>\n      <td>0</td>\n      <td>0</td>\n      <td>0</td>\n      <td>0</td>\n    </tr>\n    <tr>\n      <th>...</th>\n      <td>...</td>\n      <td>...</td>\n      <td>...</td>\n      <td>...</td>\n      <td>...</td>\n      <td>...</td>\n      <td>...</td>\n      <td>...</td>\n      <td>...</td>\n      <td>...</td>\n      <td>...</td>\n      <td>...</td>\n      <td>...</td>\n      <td>...</td>\n      <td>...</td>\n      <td>...</td>\n      <td>...</td>\n      <td>...</td>\n      <td>...</td>\n      <td>...</td>\n      <td>...</td>\n    </tr>\n    <tr>\n      <th>3670</th>\n      <td>0</td>\n      <td>0</td>\n      <td>0</td>\n      <td>0</td>\n      <td>0</td>\n      <td>0</td>\n      <td>0</td>\n      <td>0</td>\n      <td>0</td>\n      <td>0</td>\n      <td>...</td>\n      <td>0</td>\n      <td>0</td>\n      <td>0</td>\n      <td>0</td>\n      <td>0</td>\n      <td>0</td>\n      <td>0</td>\n      <td>0</td>\n      <td>0</td>\n      <td>0</td>\n    </tr>\n    <tr>\n      <th>3671</th>\n      <td>0</td>\n      <td>0</td>\n      <td>0</td>\n      <td>0</td>\n      <td>0</td>\n      <td>0</td>\n      <td>0</td>\n      <td>0</td>\n      <td>0</td>\n      <td>0</td>\n      <td>...</td>\n      <td>0</td>\n      <td>0</td>\n      <td>0</td>\n      <td>0</td>\n      <td>0</td>\n      <td>0</td>\n      <td>0</td>\n      <td>0</td>\n      <td>0</td>\n      <td>0</td>\n    </tr>\n    <tr>\n      <th>3672</th>\n      <td>0</td>\n      <td>0</td>\n      <td>0</td>\n      <td>0</td>\n      <td>0</td>\n      <td>0</td>\n      <td>0</td>\n      <td>0</td>\n      <td>0</td>\n      <td>0</td>\n      <td>...</td>\n      <td>0</td>\n      <td>0</td>\n      <td>0</td>\n      <td>0</td>\n      <td>0</td>\n      <td>0</td>\n      <td>0</td>\n      <td>0</td>\n      <td>0</td>\n      <td>0</td>\n    </tr>\n    <tr>\n      <th>3673</th>\n      <td>0</td>\n      <td>0</td>\n      <td>0</td>\n      <td>0</td>\n      <td>0</td>\n      <td>0</td>\n      <td>0</td>\n      <td>0</td>\n      <td>0</td>\n      <td>0</td>\n      <td>...</td>\n      <td>0</td>\n      <td>0</td>\n      <td>0</td>\n      <td>0</td>\n      <td>0</td>\n      <td>0</td>\n      <td>0</td>\n      <td>0</td>\n      <td>0</td>\n      <td>0</td>\n    </tr>\n    <tr>\n      <th>3674</th>\n      <td>0</td>\n      <td>0</td>\n      <td>0</td>\n      <td>0</td>\n      <td>0</td>\n      <td>0</td>\n      <td>0</td>\n      <td>0</td>\n      <td>0</td>\n      <td>0</td>\n      <td>...</td>\n      <td>0</td>\n      <td>0</td>\n      <td>0</td>\n      <td>0</td>\n      <td>0</td>\n      <td>0</td>\n      <td>0</td>\n      <td>0</td>\n      <td>0</td>\n      <td>0</td>\n    </tr>\n  </tbody>\n</table>\n<p>3675 rows × 11179 columns</p>\n</div>"
     },
     "execution_count": 53,
     "metadata": {},
     "output_type": "execute_result"
    }
   ],
   "source": [
    "frequency_matrix = pd.DataFrame(data=doc_array, columns=names)\n",
    "frequency_matrix"
   ],
   "metadata": {
    "collapsed": false,
    "pycharm": {
     "name": "#%%\n"
    }
   }
  },
  {
   "cell_type": "code",
   "execution_count": 54,
   "metadata": {
    "pycharm": {
     "name": "#%%\n"
    }
   },
   "outputs": [],
   "source": [
    "# Preparación de los datos\n",
    "X_train, X_test, y_train, y_test = train_test_split(df['content'], df['sentiment'], random_state=1)"
   ]
  },
  {
   "cell_type": "code",
   "execution_count": 55,
   "outputs": [],
   "source": [
    "# Instanciar el metodo CountVector\n",
    "count_vector = CountVectorizer()\n",
    "\n",
    "# Ajuste los datos de entrenamiento y luego devuelva la matriz\n",
    "training_data = count_vector.fit_transform(X_train)\n",
    "\n",
    "# Transforme los datos de prueba y devuelva la matriz. Tener en cuenta que no se está ajustando los datos de prueba en CountVectorizer()\n",
    "testing_data = count_vector.transform(X_test)"
   ],
   "metadata": {
    "collapsed": false,
    "pycharm": {
     "name": "#%%\n"
    }
   }
  },
  {
   "cell_type": "code",
   "execution_count": 56,
   "outputs": [
    {
     "data": {
      "text/plain": "SVC()",
      "text/html": "<style>#sk-container-id-3 {color: black;background-color: white;}#sk-container-id-3 pre{padding: 0;}#sk-container-id-3 div.sk-toggleable {background-color: white;}#sk-container-id-3 label.sk-toggleable__label {cursor: pointer;display: block;width: 100%;margin-bottom: 0;padding: 0.3em;box-sizing: border-box;text-align: center;}#sk-container-id-3 label.sk-toggleable__label-arrow:before {content: \"▸\";float: left;margin-right: 0.25em;color: #696969;}#sk-container-id-3 label.sk-toggleable__label-arrow:hover:before {color: black;}#sk-container-id-3 div.sk-estimator:hover label.sk-toggleable__label-arrow:before {color: black;}#sk-container-id-3 div.sk-toggleable__content {max-height: 0;max-width: 0;overflow: hidden;text-align: left;background-color: #f0f8ff;}#sk-container-id-3 div.sk-toggleable__content pre {margin: 0.2em;color: black;border-radius: 0.25em;background-color: #f0f8ff;}#sk-container-id-3 input.sk-toggleable__control:checked~div.sk-toggleable__content {max-height: 200px;max-width: 100%;overflow: auto;}#sk-container-id-3 input.sk-toggleable__control:checked~label.sk-toggleable__label-arrow:before {content: \"▾\";}#sk-container-id-3 div.sk-estimator input.sk-toggleable__control:checked~label.sk-toggleable__label {background-color: #d4ebff;}#sk-container-id-3 div.sk-label input.sk-toggleable__control:checked~label.sk-toggleable__label {background-color: #d4ebff;}#sk-container-id-3 input.sk-hidden--visually {border: 0;clip: rect(1px 1px 1px 1px);clip: rect(1px, 1px, 1px, 1px);height: 1px;margin: -1px;overflow: hidden;padding: 0;position: absolute;width: 1px;}#sk-container-id-3 div.sk-estimator {font-family: monospace;background-color: #f0f8ff;border: 1px dotted black;border-radius: 0.25em;box-sizing: border-box;margin-bottom: 0.5em;}#sk-container-id-3 div.sk-estimator:hover {background-color: #d4ebff;}#sk-container-id-3 div.sk-parallel-item::after {content: \"\";width: 100%;border-bottom: 1px solid gray;flex-grow: 1;}#sk-container-id-3 div.sk-label:hover label.sk-toggleable__label {background-color: #d4ebff;}#sk-container-id-3 div.sk-serial::before {content: \"\";position: absolute;border-left: 1px solid gray;box-sizing: border-box;top: 0;bottom: 0;left: 50%;z-index: 0;}#sk-container-id-3 div.sk-serial {display: flex;flex-direction: column;align-items: center;background-color: white;padding-right: 0.2em;padding-left: 0.2em;position: relative;}#sk-container-id-3 div.sk-item {position: relative;z-index: 1;}#sk-container-id-3 div.sk-parallel {display: flex;align-items: stretch;justify-content: center;background-color: white;position: relative;}#sk-container-id-3 div.sk-item::before, #sk-container-id-3 div.sk-parallel-item::before {content: \"\";position: absolute;border-left: 1px solid gray;box-sizing: border-box;top: 0;bottom: 0;left: 50%;z-index: -1;}#sk-container-id-3 div.sk-parallel-item {display: flex;flex-direction: column;z-index: 1;position: relative;background-color: white;}#sk-container-id-3 div.sk-parallel-item:first-child::after {align-self: flex-end;width: 50%;}#sk-container-id-3 div.sk-parallel-item:last-child::after {align-self: flex-start;width: 50%;}#sk-container-id-3 div.sk-parallel-item:only-child::after {width: 0;}#sk-container-id-3 div.sk-dashed-wrapped {border: 1px dashed gray;margin: 0 0.4em 0.5em 0.4em;box-sizing: border-box;padding-bottom: 0.4em;background-color: white;}#sk-container-id-3 div.sk-label label {font-family: monospace;font-weight: bold;display: inline-block;line-height: 1.2em;}#sk-container-id-3 div.sk-label-container {text-align: center;}#sk-container-id-3 div.sk-container {/* jupyter's `normalize.less` sets `[hidden] { display: none; }` but bootstrap.min.css set `[hidden] { display: none !important; }` so we also need the `!important` here to be able to override the default hidden behavior on the sphinx rendered scikit-learn.org. See: https://github.com/scikit-learn/scikit-learn/issues/21755 */display: inline-block !important;position: relative;}#sk-container-id-3 div.sk-text-repr-fallback {display: none;}</style><div id=\"sk-container-id-3\" class=\"sk-top-container\"><div class=\"sk-text-repr-fallback\"><pre>SVC()</pre><b>In a Jupyter environment, please rerun this cell to show the HTML representation or trust the notebook. <br />On GitHub, the HTML representation is unable to render, please try loading this page with nbviewer.org.</b></div><div class=\"sk-container\" hidden><div class=\"sk-item\"><div class=\"sk-estimator sk-toggleable\"><input class=\"sk-toggleable__control sk-hidden--visually\" id=\"sk-estimator-id-3\" type=\"checkbox\" checked><label for=\"sk-estimator-id-3\" class=\"sk-toggleable__label sk-toggleable__label-arrow\">SVC</label><div class=\"sk-toggleable__content\"><pre>SVC()</pre></div></div></div></div></div>"
     },
     "execution_count": 56,
     "metadata": {},
     "output_type": "execute_result"
    }
   ],
   "source": [
    "# Uso de Máquinas de Vector Soporte (SVM)\n",
    "clf = svm.SVC()\n",
    "clf.fit(training_data, y_train)"
   ],
   "metadata": {
    "collapsed": false,
    "pycharm": {
     "name": "#%%\n"
    }
   }
  },
  {
   "cell_type": "code",
   "execution_count": 57,
   "metadata": {
    "pycharm": {
     "name": "#%%\n"
    }
   },
   "outputs": [],
   "source": [
    "# Predicción del modelo\n",
    "predictions = clf.predict(testing_data)"
   ]
  },
  {
   "cell_type": "code",
   "execution_count": 58,
   "outputs": [
    {
     "name": "stdout",
     "output_type": "stream",
     "text": [
      "Accuracy score:  0.5244831338411317\n",
      "Precision score:  [0.61904762 0.47806354 0.         0.64556962]\n",
      "Recall score:  [0.07647059 0.9002849  0.         0.56043956]\n",
      "F1 score:  [0.13612565 0.62450593 0.         0.6       ]\n"
     ]
    },
    {
     "name": "stderr",
     "output_type": "stream",
     "text": [
      "C:\\Users\\ASUS\\Documents\\Entornos\\Entorno01\\lib\\site-packages\\sklearn\\metrics\\_classification.py:1327: UndefinedMetricWarning: Precision is ill-defined and being set to 0.0 in labels with no predicted samples. Use `zero_division` parameter to control this behavior.\n",
      "  _warn_prf(average, modifier, msg_start, len(result))\n"
     ]
    }
   ],
   "source": [
    "# Evaluación del modelo\n",
    "print('Accuracy score: ', format(accuracy_score(y_test, predictions)))\n",
    "print('Precision score: ', format(precision_score(y_test, predictions, average = None)))\n",
    "print('Recall score: ', format(recall_score(y_test, predictions, average = None)))\n",
    "print('F1 score: ', format(f1_score(y_test, predictions, average = None)))"
   ],
   "metadata": {
    "collapsed": false,
    "pycharm": {
     "name": "#%%\n"
    }
   }
  },
  {
   "cell_type": "code",
   "execution_count": 59,
   "outputs": [],
   "source": [
    "# Exportación de los Modelos\n",
    "pickle.dump(count_vector, open('my_app/modelos/vectorSVM.sav', 'wb'))\n",
    "pickle.dump(clf, open('my_app/modelos/classifierSVM.sav', 'wb'))"
   ],
   "metadata": {
    "collapsed": false,
    "pycharm": {
     "name": "#%%\n"
    }
   }
  }
 ],
 "metadata": {
  "kernelspec": {
   "display_name": "Python 3 (ipykernel)",
   "language": "python",
   "name": "python3"
  },
  "language_info": {
   "codemirror_mode": {
    "name": "ipython",
    "version": 3
   },
   "file_extension": ".py",
   "mimetype": "text/x-python",
   "name": "python",
   "nbconvert_exporter": "python",
   "pygments_lexer": "ipython3",
   "version": "3.10.2"
  }
 },
 "nbformat": 4,
 "nbformat_minor": 1
}