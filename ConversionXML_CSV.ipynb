{
 "cells": [
  {
   "cell_type": "code",
   "execution_count": 1,
   "metadata": {
    "pycharm": {
     "name": "#%%\n"
    }
   },
   "outputs": [],
   "source": [
    "import xml.etree.ElementTree as Xet\n",
    "import pandas as pd"
   ]
  },
  {
   "cell_type": "code",
   "execution_count": 2,
   "metadata": {
    "pycharm": {
     "name": "#%%\n"
    }
   },
   "outputs": [],
   "source": [
    "# Columnas generales para los CSV's\n",
    "cols = [\"content\", \"sentiment\"]"
   ]
  },
  {
   "cell_type": "markdown",
   "metadata": {
    "pycharm": {
     "name": "#%% md\n"
    }
   },
   "source": [
    "# Primer CSV"
   ]
  },
  {
   "cell_type": "code",
   "execution_count": 3,
   "metadata": {
    "pycharm": {
     "name": "#%%\n"
    }
   },
   "outputs": [],
   "source": [
    "rows = []"
   ]
  },
  {
   "cell_type": "code",
   "execution_count": 4,
   "metadata": {
    "pycharm": {
     "name": "#%%\n"
    }
   },
   "outputs": [],
   "source": [
    "xmlparse = Xet.parse('./data/TASS2019_country_CR_train.xml') \n",
    "root = xmlparse.getroot()"
   ]
  },
  {
   "cell_type": "code",
   "execution_count": 5,
   "metadata": {
    "pycharm": {
     "name": "#%%\n"
    }
   },
   "outputs": [],
   "source": [
    "for i in root:\n",
    "    content = i.find(\"content\").text\n",
    "    sentiment = i.find(\"sentiment\").find(\"polarity\").find(\"value\").text\n",
    "    rows.append({\"content\": content,\n",
    "                 \"sentiment\":sentiment}) "
   ]
  },
  {
   "cell_type": "code",
   "execution_count": 6,
   "metadata": {
    "pycharm": {
     "name": "#%%\n"
    }
   },
   "outputs": [
    {
     "data": {
      "text/plain": "                                               content sentiment\n0                   @NoilyMV yo soy totalmente puntual      NONE\n1    @SandraCauffman Hola Sandrita. No le habia des...         P\n2    Si andan haciendo eso mejor se quedaran callad...         N\n3                       Que pereza quiero choco banano         N\n4    @robertobrenes Bueno, no es tanto lo mayor com...         N\n..                                                 ...       ...\n772     Quiero como tener carro para hacer todo rápido       NEU\n773         Tristeza más hp me da siempre en año nuevo         N\n774            no encuentro ninguna buena serie en NF.         N\n775  @Alphasniper97 Alpha suerte y ten un feliz año...         P\n776  @sancarlena77 @miguelpintor05 @demalaspalabras...      NONE\n\n[777 rows x 2 columns]",
      "text/html": "<div>\n<style scoped>\n    .dataframe tbody tr th:only-of-type {\n        vertical-align: middle;\n    }\n\n    .dataframe tbody tr th {\n        vertical-align: top;\n    }\n\n    .dataframe thead th {\n        text-align: right;\n    }\n</style>\n<table border=\"1\" class=\"dataframe\">\n  <thead>\n    <tr style=\"text-align: right;\">\n      <th></th>\n      <th>content</th>\n      <th>sentiment</th>\n    </tr>\n  </thead>\n  <tbody>\n    <tr>\n      <th>0</th>\n      <td>@NoilyMV yo soy totalmente puntual</td>\n      <td>NONE</td>\n    </tr>\n    <tr>\n      <th>1</th>\n      <td>@SandraCauffman Hola Sandrita. No le habia des...</td>\n      <td>P</td>\n    </tr>\n    <tr>\n      <th>2</th>\n      <td>Si andan haciendo eso mejor se quedaran callad...</td>\n      <td>N</td>\n    </tr>\n    <tr>\n      <th>3</th>\n      <td>Que pereza quiero choco banano</td>\n      <td>N</td>\n    </tr>\n    <tr>\n      <th>4</th>\n      <td>@robertobrenes Bueno, no es tanto lo mayor com...</td>\n      <td>N</td>\n    </tr>\n    <tr>\n      <th>...</th>\n      <td>...</td>\n      <td>...</td>\n    </tr>\n    <tr>\n      <th>772</th>\n      <td>Quiero como tener carro para hacer todo rápido</td>\n      <td>NEU</td>\n    </tr>\n    <tr>\n      <th>773</th>\n      <td>Tristeza más hp me da siempre en año nuevo</td>\n      <td>N</td>\n    </tr>\n    <tr>\n      <th>774</th>\n      <td>no encuentro ninguna buena serie en NF.</td>\n      <td>N</td>\n    </tr>\n    <tr>\n      <th>775</th>\n      <td>@Alphasniper97 Alpha suerte y ten un feliz año...</td>\n      <td>P</td>\n    </tr>\n    <tr>\n      <th>776</th>\n      <td>@sancarlena77 @miguelpintor05 @demalaspalabras...</td>\n      <td>NONE</td>\n    </tr>\n  </tbody>\n</table>\n<p>777 rows × 2 columns</p>\n</div>"
     },
     "execution_count": 6,
     "metadata": {},
     "output_type": "execute_result"
    }
   ],
   "source": [
    "df = pd.DataFrame(rows, columns=cols)\n",
    "df"
   ]
  },
  {
   "cell_type": "code",
   "execution_count": 7,
   "metadata": {
    "pycharm": {
     "name": "#%%\n"
    }
   },
   "outputs": [],
   "source": [
    "df.to_csv('./data/country_CR_train.csv')"
   ]
  },
  {
   "cell_type": "markdown",
   "metadata": {
    "pycharm": {
     "name": "#%% md\n"
    }
   },
   "source": [
    "# Segundo CSV"
   ]
  },
  {
   "cell_type": "code",
   "execution_count": 8,
   "metadata": {
    "pycharm": {
     "name": "#%%\n"
    }
   },
   "outputs": [],
   "source": [
    "rows = []"
   ]
  },
  {
   "cell_type": "code",
   "execution_count": 9,
   "metadata": {
    "pycharm": {
     "name": "#%%\n"
    }
   },
   "outputs": [],
   "source": [
    "xmlparse = Xet.parse('./data/TASS2019_country_MX_train.xml') \n",
    "root = xmlparse.getroot()"
   ]
  },
  {
   "cell_type": "code",
   "execution_count": 10,
   "metadata": {
    "pycharm": {
     "name": "#%%\n"
    }
   },
   "outputs": [],
   "source": [
    "for i in root:\n",
    "    content = i.find(\"content\").text\n",
    "    sentiment = i.find(\"sentiment\").find(\"polarity\").find(\"value\").text\n",
    "    rows.append({\"content\": content,\n",
    "                 \"sentiment\":sentiment}) "
   ]
  },
  {
   "cell_type": "code",
   "execution_count": 11,
   "metadata": {
    "pycharm": {
     "name": "#%%\n"
    }
   },
   "outputs": [
    {
     "data": {
      "text/plain": "                                               content sentiment\n0    — ¿Nivel de inglés? — Alto. — Traduzca juguete...       NEU\n1    Si soy de área 4 y con suerte pase mate IV y m...         N\n2    Sabían que su after fav Teatro G. fue construi...         P\n3    Y hoy por primera vez me salí con el permiso d...         P\n4    ¿Para qué hacen coraje con Ambriz?, al final n...         N\n..                                                 ...       ...\n984  Si quieren que aprenda algo de eso dejen esa m...       NEU\n985  Últimos momentos en medicina familiar y de gua...      NONE\n986  @natyamezcua hay pues hay que ver que hacemos ...       NEU\n987        Me acabo de tragar un pastel en mood celina         N\n988  Pobresita jajajaja, no no tendras su amistad d...         N\n\n[989 rows x 2 columns]",
      "text/html": "<div>\n<style scoped>\n    .dataframe tbody tr th:only-of-type {\n        vertical-align: middle;\n    }\n\n    .dataframe tbody tr th {\n        vertical-align: top;\n    }\n\n    .dataframe thead th {\n        text-align: right;\n    }\n</style>\n<table border=\"1\" class=\"dataframe\">\n  <thead>\n    <tr style=\"text-align: right;\">\n      <th></th>\n      <th>content</th>\n      <th>sentiment</th>\n    </tr>\n  </thead>\n  <tbody>\n    <tr>\n      <th>0</th>\n      <td>— ¿Nivel de inglés? — Alto. — Traduzca juguete...</td>\n      <td>NEU</td>\n    </tr>\n    <tr>\n      <th>1</th>\n      <td>Si soy de área 4 y con suerte pase mate IV y m...</td>\n      <td>N</td>\n    </tr>\n    <tr>\n      <th>2</th>\n      <td>Sabían que su after fav Teatro G. fue construi...</td>\n      <td>P</td>\n    </tr>\n    <tr>\n      <th>3</th>\n      <td>Y hoy por primera vez me salí con el permiso d...</td>\n      <td>P</td>\n    </tr>\n    <tr>\n      <th>4</th>\n      <td>¿Para qué hacen coraje con Ambriz?, al final n...</td>\n      <td>N</td>\n    </tr>\n    <tr>\n      <th>...</th>\n      <td>...</td>\n      <td>...</td>\n    </tr>\n    <tr>\n      <th>984</th>\n      <td>Si quieren que aprenda algo de eso dejen esa m...</td>\n      <td>NEU</td>\n    </tr>\n    <tr>\n      <th>985</th>\n      <td>Últimos momentos en medicina familiar y de gua...</td>\n      <td>NONE</td>\n    </tr>\n    <tr>\n      <th>986</th>\n      <td>@natyamezcua hay pues hay que ver que hacemos ...</td>\n      <td>NEU</td>\n    </tr>\n    <tr>\n      <th>987</th>\n      <td>Me acabo de tragar un pastel en mood celina</td>\n      <td>N</td>\n    </tr>\n    <tr>\n      <th>988</th>\n      <td>Pobresita jajajaja, no no tendras su amistad d...</td>\n      <td>N</td>\n    </tr>\n  </tbody>\n</table>\n<p>989 rows × 2 columns</p>\n</div>"
     },
     "execution_count": 11,
     "metadata": {},
     "output_type": "execute_result"
    }
   ],
   "source": [
    "df = pd.DataFrame(rows, columns=cols)\n",
    "df"
   ]
  },
  {
   "cell_type": "code",
   "execution_count": 12,
   "metadata": {
    "pycharm": {
     "name": "#%%\n"
    }
   },
   "outputs": [],
   "source": [
    "df.to_csv('./data/country_MX_train.csv')"
   ]
  },
  {
   "cell_type": "markdown",
   "metadata": {
    "pycharm": {
     "name": "#%% md\n"
    }
   },
   "source": [
    "# Tercer CSV"
   ]
  },
  {
   "cell_type": "code",
   "execution_count": 13,
   "metadata": {
    "pycharm": {
     "name": "#%%\n"
    }
   },
   "outputs": [],
   "source": [
    "rows = []"
   ]
  },
  {
   "cell_type": "code",
   "execution_count": 14,
   "metadata": {
    "pycharm": {
     "name": "#%%\n"
    }
   },
   "outputs": [],
   "source": [
    "xmlparse = Xet.parse('./data/TASS2019_country_PE_train.xml') \n",
    "root = xmlparse.getroot()"
   ]
  },
  {
   "cell_type": "code",
   "execution_count": 15,
   "metadata": {
    "pycharm": {
     "name": "#%%\n"
    }
   },
   "outputs": [],
   "source": [
    "for i in root:\n",
    "    content = i.find(\"content\").text\n",
    "    sentiment = i.find(\"sentiment\").find(\"polarity\").find(\"value\").text\n",
    "    rows.append({\"content\": content,\n",
    "                 \"sentiment\":sentiment}) "
   ]
  },
  {
   "cell_type": "code",
   "execution_count": 16,
   "metadata": {
    "pycharm": {
     "name": "#%%\n"
    }
   },
   "outputs": [
    {
     "data": {
      "text/plain": "                                               content sentiment\n0    Sin ser fan de Juan Gabriel, siempre supe que ...         P\n1    Sabes que no tendrás un buen día cuando lo pri...         N\n2    En situaciones en las que no sepas que hacer, ...         N\n3    ayer preguntaban y dónde están las solteras!!!...       NEU\n4    Que el finde sea para hacer cualquier cosa que...       NEU\n..                                                 ...       ...\n961  Terminarán odiándome, como casi todos los padr...         N\n962  Necesito urgente entrar a la gimnasia y al gim...      NONE\n963  Lo que me recuerda que @edvergaray me criticar...      NONE\n964       Hasta lo peor de mi, quiere lo mejor para ti       NEU\n965            Al final, siempre me quedo sola en casa      NONE\n\n[966 rows x 2 columns]",
      "text/html": "<div>\n<style scoped>\n    .dataframe tbody tr th:only-of-type {\n        vertical-align: middle;\n    }\n\n    .dataframe tbody tr th {\n        vertical-align: top;\n    }\n\n    .dataframe thead th {\n        text-align: right;\n    }\n</style>\n<table border=\"1\" class=\"dataframe\">\n  <thead>\n    <tr style=\"text-align: right;\">\n      <th></th>\n      <th>content</th>\n      <th>sentiment</th>\n    </tr>\n  </thead>\n  <tbody>\n    <tr>\n      <th>0</th>\n      <td>Sin ser fan de Juan Gabriel, siempre supe que ...</td>\n      <td>P</td>\n    </tr>\n    <tr>\n      <th>1</th>\n      <td>Sabes que no tendrás un buen día cuando lo pri...</td>\n      <td>N</td>\n    </tr>\n    <tr>\n      <th>2</th>\n      <td>En situaciones en las que no sepas que hacer, ...</td>\n      <td>N</td>\n    </tr>\n    <tr>\n      <th>3</th>\n      <td>ayer preguntaban y dónde están las solteras!!!...</td>\n      <td>NEU</td>\n    </tr>\n    <tr>\n      <th>4</th>\n      <td>Que el finde sea para hacer cualquier cosa que...</td>\n      <td>NEU</td>\n    </tr>\n    <tr>\n      <th>...</th>\n      <td>...</td>\n      <td>...</td>\n    </tr>\n    <tr>\n      <th>961</th>\n      <td>Terminarán odiándome, como casi todos los padr...</td>\n      <td>N</td>\n    </tr>\n    <tr>\n      <th>962</th>\n      <td>Necesito urgente entrar a la gimnasia y al gim...</td>\n      <td>NONE</td>\n    </tr>\n    <tr>\n      <th>963</th>\n      <td>Lo que me recuerda que @edvergaray me criticar...</td>\n      <td>NONE</td>\n    </tr>\n    <tr>\n      <th>964</th>\n      <td>Hasta lo peor de mi, quiere lo mejor para ti</td>\n      <td>NEU</td>\n    </tr>\n    <tr>\n      <th>965</th>\n      <td>Al final, siempre me quedo sola en casa</td>\n      <td>NONE</td>\n    </tr>\n  </tbody>\n</table>\n<p>966 rows × 2 columns</p>\n</div>"
     },
     "execution_count": 16,
     "metadata": {},
     "output_type": "execute_result"
    }
   ],
   "source": [
    "df = pd.DataFrame(rows, columns=cols)\n",
    "df"
   ]
  },
  {
   "cell_type": "code",
   "execution_count": 17,
   "metadata": {
    "pycharm": {
     "name": "#%%\n"
    }
   },
   "outputs": [],
   "source": [
    "df.to_csv('./data/country_PE_train.csv')"
   ]
  },
  {
   "cell_type": "markdown",
   "metadata": {
    "pycharm": {
     "name": "#%% md\n"
    }
   },
   "source": [
    "# Cuarto CSV"
   ]
  },
  {
   "cell_type": "code",
   "execution_count": 18,
   "metadata": {
    "pycharm": {
     "name": "#%%\n"
    }
   },
   "outputs": [],
   "source": [
    "rows = []"
   ]
  },
  {
   "cell_type": "code",
   "execution_count": 19,
   "metadata": {
    "pycharm": {
     "name": "#%%\n"
    }
   },
   "outputs": [],
   "source": [
    "xmlparse = Xet.parse('./data/TASS2019_country_UY_train.xml') \n",
    "root = xmlparse.getroot()"
   ]
  },
  {
   "cell_type": "code",
   "execution_count": 20,
   "metadata": {
    "pycharm": {
     "name": "#%%\n"
    }
   },
   "outputs": [],
   "source": [
    "for i in root: \n",
    "    content = i.find(\"content\").text\n",
    "    sentiment = i.find(\"sentiment\").find(\"polarity\").find(\"value\").text\n",
    "    rows.append({\"content\": content,\n",
    "                 \"sentiment\":sentiment}) "
   ]
  },
  {
   "cell_type": "code",
   "execution_count": 21,
   "metadata": {
    "pycharm": {
     "name": "#%%\n"
    }
   },
   "outputs": [
    {
     "data": {
      "text/plain": "                                               content sentiment\n0    Yo espero tranquila. Si gana de nvo alg partid...       NEU\n1    Los fracasos de Michelle, Cristina y Dilma mue...         N\n2    Debemos orar por los hnos venezolanos gente q ...         N\n3    Me dijo que no le había gustado no se cuantas ...       NEU\n4    @susanagkp jajaja yo fui el viernes ! precavid...         N\n..                                                 ...       ...\n938      @AmorAKilates @Roocio_Mk si me pasa lo mismo!      NONE\n939  @clauchoarrionda pquno ladra y ls demas retwitean       NEU\n940  A mi desayuno le hizo falta un alfajor podrida...         N\n941  Viste cuando necesitas que alguien te escuche ...         N\n942  @cuervotinelli @candetinelli Mañana es mi prim...       NEU\n\n[943 rows x 2 columns]",
      "text/html": "<div>\n<style scoped>\n    .dataframe tbody tr th:only-of-type {\n        vertical-align: middle;\n    }\n\n    .dataframe tbody tr th {\n        vertical-align: top;\n    }\n\n    .dataframe thead th {\n        text-align: right;\n    }\n</style>\n<table border=\"1\" class=\"dataframe\">\n  <thead>\n    <tr style=\"text-align: right;\">\n      <th></th>\n      <th>content</th>\n      <th>sentiment</th>\n    </tr>\n  </thead>\n  <tbody>\n    <tr>\n      <th>0</th>\n      <td>Yo espero tranquila. Si gana de nvo alg partid...</td>\n      <td>NEU</td>\n    </tr>\n    <tr>\n      <th>1</th>\n      <td>Los fracasos de Michelle, Cristina y Dilma mue...</td>\n      <td>N</td>\n    </tr>\n    <tr>\n      <th>2</th>\n      <td>Debemos orar por los hnos venezolanos gente q ...</td>\n      <td>N</td>\n    </tr>\n    <tr>\n      <th>3</th>\n      <td>Me dijo que no le había gustado no se cuantas ...</td>\n      <td>NEU</td>\n    </tr>\n    <tr>\n      <th>4</th>\n      <td>@susanagkp jajaja yo fui el viernes ! precavid...</td>\n      <td>N</td>\n    </tr>\n    <tr>\n      <th>...</th>\n      <td>...</td>\n      <td>...</td>\n    </tr>\n    <tr>\n      <th>938</th>\n      <td>@AmorAKilates @Roocio_Mk si me pasa lo mismo!</td>\n      <td>NONE</td>\n    </tr>\n    <tr>\n      <th>939</th>\n      <td>@clauchoarrionda pquno ladra y ls demas retwitean</td>\n      <td>NEU</td>\n    </tr>\n    <tr>\n      <th>940</th>\n      <td>A mi desayuno le hizo falta un alfajor podrida...</td>\n      <td>N</td>\n    </tr>\n    <tr>\n      <th>941</th>\n      <td>Viste cuando necesitas que alguien te escuche ...</td>\n      <td>N</td>\n    </tr>\n    <tr>\n      <th>942</th>\n      <td>@cuervotinelli @candetinelli Mañana es mi prim...</td>\n      <td>NEU</td>\n    </tr>\n  </tbody>\n</table>\n<p>943 rows × 2 columns</p>\n</div>"
     },
     "execution_count": 21,
     "metadata": {},
     "output_type": "execute_result"
    }
   ],
   "source": [
    "df = pd.DataFrame(rows, columns=cols)\n",
    "df"
   ]
  },
  {
   "cell_type": "code",
   "execution_count": 22,
   "outputs": [],
   "source": [
    "df.to_csv('./data/country_UY_train.csv')"
   ],
   "metadata": {
    "collapsed": false,
    "pycharm": {
     "name": "#%%\n"
    }
   }
  }
 ],
 "metadata": {
  "kernelspec": {
   "display_name": "Python 3 (ipykernel)",
   "language": "python",
   "name": "python3"
  },
  "language_info": {
   "codemirror_mode": {
    "name": "ipython",
    "version": 3
   },
   "file_extension": ".py",
   "mimetype": "text/x-python",
   "name": "python",
   "nbconvert_exporter": "python",
   "pygments_lexer": "ipython3",
   "version": "3.10.2"
  }
 },
 "nbformat": 4,
 "nbformat_minor": 1
}